{
 "cells": [
  {
   "cell_type": "code",
   "execution_count": 23,
   "metadata": {},
   "outputs": [],
   "source": [
    "from binance.client import Client\n",
    "import pytz\n",
    "import datetime\n",
    "import dateutil.parser\n",
    "import pandas as pd\n",
    "import smtplib \n",
    "from stockstats import StockDataFrame\n",
    "import datetime as dt\n",
    "from IPython.display import clear_output\n",
    "import time\n",
    "import numpy as np\n",
    "import matplotlib.pyplot as py\n",
    "import urllib3\n",
    "from binance.client import Client\n",
    "import plotly.graph_objects as go\n",
    "import pandas as pd"
   ]
  },
  {
   "cell_type": "code",
   "execution_count": 24,
   "metadata": {},
   "outputs": [],
   "source": [
    "def convert_datetime_timezone(dt, tz1, tz2):\n",
    "    tz1 = pytz.timezone(tz1)\n",
    "    tz2 = pytz.timezone(tz2)\n",
    "    dt = datetime.datetime.strptime(dt,'%Y-%m-%d %H:%M:%S')\n",
    "    dt = tz1.localize(dt)\n",
    "    dt = dt.astimezone(tz2)\n",
    "    dt = dt.strftime('%Y-%m-%d %H:%M:%S')\n",
    "    return dt"
   ]
  },
  {
   "cell_type": "code",
   "execution_count": 25,
   "metadata": {},
   "outputs": [],
   "source": [
    "def scrap_binance_price(unit,interval):\n",
    "\n",
    "    api_key = 'LKa422RMjzx2tsXESIoSQ5qJzqi7LaC7iDFf9qdSrYjhJrZ6a8CcvOdniJWtfX13'\n",
    "    api_secret = 'EvomPthpqwgTjeuqYFWBQM9HtE52Zeq6SuKrZSROqhd8g2tvbz086zVZqbbJGxsZ'\n",
    "\n",
    "    client = Client(api_key, api_secret, {\"verify\": False, \"timeout\": 20})\n",
    "    klines = client.get_historical_klines(\"BTCUSDT\", unit, interval)\n",
    "\n",
    "    data = pd.DataFrame();\n",
    "    tradingdate = []\n",
    "    openprice = []\n",
    "    highprice = []\n",
    "    lowprice = []\n",
    "    closeprice = [] \n",
    "    for i in range(len(klines)):   \n",
    "        time = datetime.datetime.utcfromtimestamp(klines[i][0]/1000).strftime('%Y-%m-%d %H:%M:%S')\n",
    "        local_time = convert_datetime_timezone(time,'GMT','Australia/Adelaide')\n",
    "        format_time = dateutil.parser.parse(local_time)\n",
    "        tradingdate.append(format_time)\n",
    "        openprice.append(float(klines[i][1]))\n",
    "        highprice.append(float(klines[i][2]))\n",
    "        lowprice.append(float(klines[i][3]))\n",
    "        closeprice.append(float(klines[i][4]))\n",
    "    data['datetime'] = tradingdate\n",
    "    data['low'] = lowprice\n",
    "    data['high'] = highprice\n",
    "    data['open'] = openprice\n",
    "    data['close'] = closeprice\n",
    "    return data"
   ]
  },
  {
   "cell_type": "code",
   "execution_count": 26,
   "metadata": {},
   "outputs": [],
   "source": [
    "def heikin_ashi(df):\n",
    "    \n",
    "    heikin_ashi_df = pd.DataFrame(index=df.index.values, columns=['open', 'high', 'low', 'close'])\n",
    "    \n",
    "    heikin_ashi_df['close'] = (df['open'] + df['high'] + df['low'] + df['close']) / 4\n",
    "    \n",
    "    for i in range(len(df)):\n",
    "        if i == 0:\n",
    "            heikin_ashi_df.iat[0, 0] = df['open'].iloc[0]\n",
    "        else:\n",
    "            heikin_ashi_df.iat[i, 0] = (heikin_ashi_df.iat[i-1, 0] + heikin_ashi_df.iat[i-1, 3]) / 2\n",
    "        \n",
    "    heikin_ashi_df['high'] = heikin_ashi_df.loc[:, ['open', 'close']].join(df['high']).max(axis=1)\n",
    "    \n",
    "    heikin_ashi_df['low'] = heikin_ashi_df.loc[:, ['open', 'close']].join(df['low']).min(axis=1)\n",
    "    \n",
    "    heikin_ashi_df['datetime'] = df['datetime']\n",
    "    return heikin_ashi_df"
   ]
  },
  {
   "cell_type": "code",
   "execution_count": 27,
   "metadata": {},
   "outputs": [],
   "source": [
    "def add_indicator(df1,df2):\n",
    "    #1: buy indicator\n",
    "    #w: sell indicator\n",
    "    #0: no activity\n",
    "    point = []\n",
    "    #MACD_EMA_SHORT: default to 12\n",
    "    #MACD_EMA_LONG: default to 26\n",
    "    #MACD_EMA_SIGNAL: default to 9\n",
    "    \n",
    "    #df1: original price dataset\n",
    "    #df2: heikin-ashi price dataset\n",
    "    \n",
    "    \n",
    "    df = StockDataFrame.retype(df1)\n",
    "    df['macd'] = df.get('macd') # calculate MACD\n",
    "    #1: buy indicator\n",
    "    #-1: sell indicator\n",
    "    #0: no activity\n",
    "    MACD = df\n",
    "    point = []\n",
    "    previous = 0\n",
    "    current = 0\n",
    "    #MACD_EMA_SHORT: default to 12\n",
    "    #MACD_EMA_LONG: default to 26\n",
    "    #MACD_EMA_SIGNAL: default to 9\n",
    "    point.append(0)\n",
    "    hasBitcoin = False\n",
    "    for i in range(1,len(MACD)):\n",
    "        previous = MACD['macdh'][i-1];\n",
    "        current = MACD['macdh'][i];\n",
    "        current_open = df2['open'][i]\n",
    "        current_close = df2['close'][i];\n",
    "        if(previous<0 and current >0 and current_close>current_open and hasBitcoin == False):\n",
    "            point.append(1)\n",
    "            hasBitcoin = True\n",
    "        elif(previous>0 and current <0 and current_close<current_open and hasBitcoin == True):\n",
    "            point.append(2)\n",
    "            hasBitcoin = False\n",
    "\n",
    "        else:\n",
    "            point.append(0)\n",
    "    MACD['indicator'] = point\n",
    "    return MACD"
   ]
  },
  {
   "cell_type": "code",
   "execution_count": 28,
   "metadata": {},
   "outputs": [],
   "source": [
    "def round_down(value, decimals):\n",
    "    factor = 1 / (10 ** decimals)\n",
    "    return (value // factor) * factor"
   ]
  },
  {
   "cell_type": "code",
   "execution_count": 29,
   "metadata": {},
   "outputs": [],
   "source": [
    "def email_notification(message):\n",
    "    info = pd.read_csv('C:\\\\Users\\\\Ray\\\\Desktop\\\\E_Info.csv')\n",
    "    gmailaddress = info['username'][0]\n",
    "    gmailpassword = info['password'][0]\n",
    "    mailToOne = info['addressOne'][0]\n",
    "    mailToTwo = info['addressTwo'][0]\n",
    "    msg = \"Buy the Bitcoin\"\n",
    "    mailServer = smtplib.SMTP('smtp.gmail.com' , 587)\n",
    "    mailServer.starttls()\n",
    "    mailServer.login(gmailaddress , gmailpassword)\n",
    "    mailServer.sendmail(gmailaddress, mailToOne , message)\n",
    "    mailServer.sendmail(gmailaddress, mailToTwo , message)\n",
    "    mailServer.quit()"
   ]
  },
  {
   "cell_type": "code",
   "execution_count": 30,
   "metadata": {},
   "outputs": [],
   "source": [
    "def trading(treasure,test,money,bitcoin,bnb):\n",
    "    \n",
    "    record = {}\n",
    "    initial_money = money\n",
    "    initial_bitcoin = bitcoin\n",
    "    initial_bnb = bnb\n",
    "    #client.order_market_buy(symbol = 'BTCUSDT',quantity = round_down(initial_bnb,6))\n",
    "    A = []\n",
    "    B = []\n",
    "    C = []\n",
    "    D = []\n",
    "    E = []\n",
    "    F = []\n",
    "    G = []\n",
    "    \n",
    "    commission_rate = 0.00075\n",
    "    \n",
    "    test.reset_index(drop = True, inplace = True)\n",
    "    comission_state = True\n",
    "    balance = 100\n",
    "    index = 0\n",
    "    for i in range (len(test)):\n",
    "        #set the current transfer index    \n",
    "        index += 1\n",
    "        #set the transaction rule\n",
    "        #set the rule of buy bitcoin\n",
    "        if(test['indicator'][i] == 1 and money > 0 and comission_state == True and bnb>0):\n",
    "            if(money/test['close'][i]<balance):\n",
    "                if(i<len(test)-1):\n",
    "                    bitcoin_exchange = round_down(money/test['close'][i],8)\n",
    "                    bnb -= money/18*commission_rate\n",
    "                    balance -= bitcoin_exchange\n",
    "                    bitcoin += bitcoin_exchange\n",
    "                    money -= bitcoin_exchange*test['close'][i]\n",
    "                    record[test['datetime'][i]] = 1\n",
    "                else:\n",
    "                    bitcoin_exchange = round_down(money/test['close'][i],8)\n",
    "                    bnb -= money/18*commission_rate\n",
    "                    balance -= bitcoin_exchange\n",
    "                    bitcoin += bitcoin_exchange\n",
    "                    money -= bitcoin_exchange*test['close'][i]\n",
    "                    if(record.get(test['datetime'][i]) != 1):\n",
    "                        record[test['datetime'][i]] = 1\n",
    "                        email_notification(\"Buy the Bitcoin Right Now! -- 1 Hour Economic Model.\")\n",
    "                        client.order_market_buy(symbol = 'BTCUSDT',quantity = round_down(bitcoin_exchange,8))\n",
    "            else:\n",
    "                bitcoin += balance\n",
    "                money -= balance*test['close'][i]\n",
    "                bnb -= money/18*commission_rate\n",
    "                comission_state = False\n",
    "                record[test['datetime'][i]] = 1\n",
    "                if(i<len(test)-1):\n",
    "                    if(record.get(test['datetime'][i]) != 1):\n",
    "                        record[test['datetime'][i]] = 1\n",
    "                        email_notification(\"Buy the Bitcoin Right Now! -- 1 Hour Economic Model.\")\n",
    "                        client.order_market_buy(symbol = 'BTCUSDT',quantity = round_down(balance,8) )\n",
    "        #set the rule of sell bitcoin\n",
    "        elif(test['indicator'][i] == 2 and bitcoin>0 and bnb>0):\n",
    "            if(i<len(test)-1):\n",
    "                #each extraction opertion the system would charge commission fee\n",
    "                bnb -= bitcoin*test['close'][i]/18*commission_rate\n",
    "                money += bitcoin*test['close'][i]\n",
    "                bitcoin = 0\n",
    "                record[test['datetime'][i]] = 2\n",
    "            else:              \n",
    "                #each extraction opertion the system would charge commission fee\n",
    "                bnb -= bitcoin*test['close'][i]/18*commission_rate\n",
    "                money += bitcoin*test['close'][i]\n",
    "                bitcoin = 0\n",
    "                if(record.get(test['datetime'][i]) != 2):\n",
    "                    record[test['datetime'][i]] = 2\n",
    "                    email_notification(\"Sell the Bitcoin Right Now! -- 1 Hour Economic Model.\")\n",
    "                    client.order_market_sell(symbol = 'BTCUSDT',quantity = round_down(bitcoin,8))\n",
    "        #the system would run 24h daily \n",
    "        if(index>=24*4):\n",
    "            index = 0\n",
    "            balance = 100\n",
    "            comission_state = True\n",
    "            \n",
    "        A.append(test['datetime'][i]);\n",
    "        B.append(money)\n",
    "        C.append(bitcoin)\n",
    "        D.append(bitcoin*test['close'][i]+money)\n",
    "        E.append(test['indicator'][i])\n",
    "        F.append(i+1)\n",
    "        G.append(test['close'][i])\n",
    " \n",
    "    treasure['datetime'] = A\n",
    "    treasure['index'] = F\n",
    "    treasure['money'] = B\n",
    "    treasure['bitcoin'] = C\n",
    "    treasure['total'] = D\n",
    "    treasure['indicator'] = E\n",
    "    treasure['close'] = G\n",
    "    \n",
    "    initial_assert = initial_money+initial_bitcoin*test['close'][0]+initial_bnb*18\n",
    "    TotalAssert = bitcoin*test['close'][len(test)-1]+money+bnb*18\n",
    "    TransactionDate = test['datetime'][len(test)-1]-test['datetime'][0]\n",
    "    print(\"Initial money is:\" + str(initial_money))\n",
    "    print(\"Initial bitcoin is:\" + str(initial_bitcoin))\n",
    "    print(\"Initial bnb is:\" + str(initial_bnb))\n",
    "    print(\"Investment Start Time:\" + str(test['datetime'][0]) )\n",
    "    print(\"Investment End Time:\" + str(test['datetime'][len(test)-1]) )\n",
    "    print(\"Investment Periods: \"+str(TransactionDate.days) )\n",
    "    print(\"Current Money:\" + str(money) )\n",
    "    print(\"Current Bitcoin: \"+ str(bitcoin) )\n",
    "    print(\"Current BNB: \"+ str(bnb) )\n",
    "    print(\"Return on Investment is:\"+ str( (TotalAssert-initial_assert)/initial_assert*100)+\"%\")\n",
    "    print(\"Current Total Assert is: \"+ str(TotalAssert) )\n",
    "    if(TotalAssert/initial_assert<0.9):\n",
    "        print(\"Trading curb occured\")\n",
    "        client.order_market_sell(symbol = 'BTCUSDT',quantity = round_down(bitcoin,8))\n",
    "        money += bitcoin * test['close'][len(test)-1]*commission_rate\n",
    "        bnb -= bitcoin*test['close'][len(test)-1]*commission_rate\n",
    "        bitcoin = 0\n",
    "        alarm = True\n",
    "    return treasure   "
   ]
  },
  {
   "cell_type": "code",
   "execution_count": 31,
   "metadata": {},
   "outputs": [],
   "source": [
    "def display_candles(data):\n",
    "\n",
    "    df = data\n",
    "\n",
    "    fig = go.Figure(data=[go.Candlestick(x=df['datetime'],\n",
    "                    open=df['open'],\n",
    "                    high=df['high'],\n",
    "                    low=df['low'],\n",
    "                    close=df['close'])])\n",
    "    fig.show()"
   ]
  },
  {
   "cell_type": "code",
   "execution_count": 32,
   "metadata": {
    "scrolled": false
   },
   "outputs": [],
   "source": [
    "def run_bot(time_interval,time_interval_name,time_range):\n",
    "    urllib3.disable_warnings(urllib3.exceptions.InsecureRequestWarning)\n",
    "    pd.set_option('display.float_format',lambda x : '%.8f' % x)\n",
    "\n",
    "    api_key = 'LKa422RMjzx2tsXESIoSQ5qJzqi7LaC7iDFf9qdSrYjhJrZ6a8CcvOdniJWtfX13'\n",
    "    api_secret = 'EvomPthpqwgTjeuqYFWBQM9HtE52Zeq6SuKrZSROqhd8g2tvbz086zVZqbbJGxsZ'\n",
    "\n",
    "    client = Client(api_key, api_secret, {\"verify\": False, \"timeout\": 20})\n",
    "    money = 0\n",
    "    bitcoin = 0.04612\n",
    "    bnb = 1\n",
    "    alarm = False\n",
    "    initial_data = scrap_binance_price(time_interval,time_range)\n",
    "    data = initial_data[:len(initial_data)-1]\n",
    "    #loop\n",
    "    code = 0\n",
    "    while(bnb>0):\n",
    "        #try:\n",
    "        latest_data = scrap_binance_price(time_interval, time_interval_name+\" ago UTC\")\n",
    "        if(data['datetime'][len(data)-1] == latest_data['datetime'][0]):\n",
    "            data.drop(data.index[len(data)-1],inplace = True)\n",
    "        data = pd.concat([data, latest_data], axis=0, join='outer', ignore_index=False, keys=None,\n",
    "                  levels=None, names=None, verify_integrity=False, copy=True)\n",
    "        data.reset_index(drop = True, inplace = True)\n",
    "        heikin_ashi_data = data.copy()\n",
    "        heikin_ashi_info = heikin_ashi(heikin_ashi_data)\n",
    "        candle_sticks = data.copy()\n",
    "        test = add_indicator(candle_sticks,heikin_ashi_info)\n",
    "        treasure = pd.DataFrame()\n",
    "        trading_record = trading(treasure,test,money,bitcoin,bnb)\n",
    "\n",
    "        x_positive = []\n",
    "        y_positive = []\n",
    "        yp_positive = []\n",
    "        x_negative = []\n",
    "        y_negative = []  \n",
    "        yp_negative = []\n",
    "        for i in range(len(treasure)):\n",
    "            if(treasure['indicator'][i] == 1):\n",
    "                x_positive.append(treasure['datetime'][i])\n",
    "                y_positive.append(treasure['total'][i])\n",
    "                yp_positive.append(treasure['close'][i])\n",
    "            elif(treasure['indicator'][i] == 2):\n",
    "                x_negative.append(treasure['datetime'][i])\n",
    "                y_negative.append(treasure['total'][i])\n",
    "                yp_negative.append(treasure['close'][i])\n",
    "\n",
    "        #assert growth graph\n",
    "        fig_assert = go.Figure()\n",
    "        x = treasure['datetime']\n",
    "        y = treasure['total']\n",
    "\n",
    "        \n",
    "        fig_assert.add_trace(go.Scatter(x=x,y=y,line=dict(color='skyblue', width=2),mode='lines',name='close price'))\n",
    "        fig_assert.add_trace(go.Scatter(x = x_positive,y=y_positive,line=dict(color='green',width=1),mode='markers', name='buy point'))\n",
    "        fig_assert.add_trace(go.Scatter(x = x_negative,y=y_negative,line=dict(color='orange',width=1),mode='markers', name='sell point'))\n",
    "        fig_assert.show()\n",
    "        \n",
    "\n",
    "        #price flowing graph\n",
    "        \n",
    "        fig_price = go.Figure()\n",
    "        \n",
    "        xp = treasure['datetime']\n",
    "        yp = treasure['close']\n",
    "        \n",
    "        fig_price.add_trace(go.Scatter(x=xp,y=yp,line=dict(color='skyblue', width=2),mode='lines',name='close price'))\n",
    "        fig_price.add_trace(go.Scatter(x = x_positive,y=yp_positive,line=dict(color='green',width=1),mode='markers', name='buy point'))\n",
    "        fig_price.add_trace(go.Scatter(x = x_negative,y=yp_negative,line=dict(color='orange',width=1),mode='markers', name='sell point'))\n",
    "        fig_price.show()\n",
    "\n",
    "        code+=1\n",
    "        display_candles(heikin_ashi_info)\n",
    "        break\n",
    "        if(alarm == True):\n",
    "            email_notification(\"Sell the Bitcoin Right Now! -- 1 Hour Economic Model.\")\n",
    "            break\n",
    "        #except:\n",
    "        #    print(\"Something went wrong\")\n",
    "        time.sleep(30)\n",
    "        clear_output()\n",
    "        \n",
    "    return trading_record"
   ]
  },
  {
   "cell_type": "code",
   "execution_count": 14,
   "metadata": {
    "scrolled": false
   },
   "outputs": [
    {
     "name": "stderr",
     "output_type": "stream",
     "text": [
      "NOTE: Behavior of MACDH calculation has changed as of July 2017 - it is now 1/2 of previous calculated values\n"
     ]
    },
    {
     "name": "stdout",
     "output_type": "stream",
     "text": [
      "Initial money is:0\n",
      "Initial bitcoin is:0.1\n",
      "Initial bnb is:5\n",
      "Investment Start Time:2019-12-02 12:30:00\n",
      "Investment End Time:2019-12-09 10:30:00\n",
      "Investment Periods: 6\n",
      "Current Money:682.6126118773\n",
      "Current Bitcoin: 0\n",
      "Current BNB: 4.621269819612561\n",
      "Return on Investment is:-7.275662365377462%\n",
      "Current Total Assert is: 765.795468630326\n"
     ]
    },
    {
     "data": {
      "application/vnd.plotly.v1+json": {
       "config": {
        "plotlyServerURL": "https://plot.ly"
       },
       "data": [
        {
         "line": {
          "color": "skyblue",
          "width": 2
         },
         "mode": "lines",
         "name": "close price",
         "type": "scatter",
         "x": [
          "2019-12-02T12:30:00",
          "2019-12-02T14:30:00",
          "2019-12-02T16:30:00",
          "2019-12-02T18:30:00",
          "2019-12-02T20:30:00",
          "2019-12-02T22:30:00",
          "2019-12-03T00:30:00",
          "2019-12-03T02:30:00",
          "2019-12-03T04:30:00",
          "2019-12-03T06:30:00",
          "2019-12-03T08:30:00",
          "2019-12-03T10:30:00",
          "2019-12-03T12:30:00",
          "2019-12-03T14:30:00",
          "2019-12-03T16:30:00",
          "2019-12-03T18:30:00",
          "2019-12-03T20:30:00",
          "2019-12-03T22:30:00",
          "2019-12-04T00:30:00",
          "2019-12-04T02:30:00",
          "2019-12-04T04:30:00",
          "2019-12-04T06:30:00",
          "2019-12-04T08:30:00",
          "2019-12-04T10:30:00",
          "2019-12-04T12:30:00",
          "2019-12-04T14:30:00",
          "2019-12-04T16:30:00",
          "2019-12-04T18:30:00",
          "2019-12-04T20:30:00",
          "2019-12-04T22:30:00",
          "2019-12-05T00:30:00",
          "2019-12-05T02:30:00",
          "2019-12-05T04:30:00",
          "2019-12-05T06:30:00",
          "2019-12-05T08:30:00",
          "2019-12-05T10:30:00",
          "2019-12-05T12:30:00",
          "2019-12-05T14:30:00",
          "2019-12-05T16:30:00",
          "2019-12-05T18:30:00",
          "2019-12-05T20:30:00",
          "2019-12-05T22:30:00",
          "2019-12-06T00:30:00",
          "2019-12-06T02:30:00",
          "2019-12-06T04:30:00",
          "2019-12-06T06:30:00",
          "2019-12-06T08:30:00",
          "2019-12-06T10:30:00",
          "2019-12-06T12:30:00",
          "2019-12-06T14:30:00",
          "2019-12-06T16:30:00",
          "2019-12-06T18:30:00",
          "2019-12-06T20:30:00",
          "2019-12-06T22:30:00",
          "2019-12-07T00:30:00",
          "2019-12-07T02:30:00",
          "2019-12-07T04:30:00",
          "2019-12-07T06:30:00",
          "2019-12-07T08:30:00",
          "2019-12-07T10:30:00",
          "2019-12-07T12:30:00",
          "2019-12-07T14:30:00",
          "2019-12-07T16:30:00",
          "2019-12-07T18:30:00",
          "2019-12-07T20:30:00",
          "2019-12-07T22:30:00",
          "2019-12-08T00:30:00",
          "2019-12-08T02:30:00",
          "2019-12-08T04:30:00",
          "2019-12-08T06:30:00",
          "2019-12-08T08:30:00",
          "2019-12-08T10:30:00",
          "2019-12-08T12:30:00",
          "2019-12-08T14:30:00",
          "2019-12-08T16:30:00",
          "2019-12-08T18:30:00",
          "2019-12-08T20:30:00",
          "2019-12-08T22:30:00",
          "2019-12-09T00:30:00",
          "2019-12-09T02:30:00",
          "2019-12-09T04:30:00",
          "2019-12-09T06:30:00",
          "2019-12-09T08:30:00",
          "2019-12-09T10:30:00"
         ],
         "y": [
          735.884,
          728.1020000000001,
          725.296,
          729.8240000000001,
          729.791,
          730.7130000000001,
          730.8760000000001,
          728.599,
          727.398,
          727.398,
          726.4996212594,
          731.4725758623,
          731.9675805564,
          724.7357312931,
          726.4548019209,
          723.3084843582,
          723.3084843582,
          723.3084843582,
          723.3084843582,
          722.5166879747999,
          721.8836452871999,
          721.9773198281999,
          719.0960881566,
          705.6838659809999,
          705.6838659809999,
          705.6838659809999,
          705.6838659809999,
          705.6838659809999,
          705.6838659809999,
          705.6838659809999,
          702.7501951413,
          702.954432091,
          703.9633814462,
          675.8756243498999,
          677.1179873619,
          679.4991831348999,
          679.4991831348999,
          679.4991831348999,
          679.4991831348999,
          679.4991831348999,
          685.2889163451999,
          686.0587732743999,
          682.1778761457999,
          682.6948332141999,
          685.6942999455999,
          685.7231230914999,
          687.0136562046999,
          687.9471542202999,
          685.4237342856999,
          687.596627575,
          685.0183506852999,
          686.8658213595999,
          682.3331492220999,
          682.3331492220999,
          682.3331492220999,
          682.3331492220999,
          678.3260280060999,
          680.4915708540999,
          686.9389202941,
          685.3747650300999,
          687.1460750460999,
          689.8171849981,
          686.3922872700999,
          683.9456710141,
          686.7116888700999,
          685.9962292861,
          685.3510380540998,
          685.2333157500999,
          685.2333157500999,
          685.2333157500999,
          685.2333157500999,
          685.2333157500999,
          685.2333157500999,
          685.2333157500999,
          685.2333157500999,
          685.2333157500999,
          685.2333157500999,
          685.2333157500999,
          685.2333157500999,
          683.3908319808999,
          682.5081832752999,
          683.6378283265,
          681.9742352928998,
          682.6126118773
         ]
        },
        {
         "line": {
          "color": "green",
          "width": 1
         },
         "mode": "markers",
         "name": "buy point",
         "type": "scatter",
         "x": [
          "2019-12-02T20:30:00",
          "2019-12-03T06:30:00",
          "2019-12-04T00:30:00",
          "2019-12-04T22:30:00",
          "2019-12-05T18:30:00",
          "2019-12-07T02:30:00",
          "2019-12-09T00:30:00"
         ],
         "y": [
          729.791,
          727.398,
          723.3084843582,
          705.6838659809999,
          679.4991831348999,
          682.3331492220999,
          685.2333157500999
         ]
        },
        {
         "line": {
          "color": "orange",
          "width": 1
         },
         "mode": "markers",
         "name": "sell point",
         "type": "scatter",
         "x": [
          "2019-12-03T04:30:00",
          "2019-12-03T18:30:00",
          "2019-12-04T10:30:00",
          "2019-12-05T10:30:00",
          "2019-12-06T20:30:00",
          "2019-12-08T02:30:00",
          "2019-12-09T10:30:00"
         ],
         "y": [
          727.398,
          723.3084843582,
          705.6838659809999,
          679.4991831348999,
          682.3331492220999,
          685.2333157500999,
          682.6126118773
         ]
        }
       ],
       "layout": {
        "template": {
         "data": {
          "bar": [
           {
            "error_x": {
             "color": "#2a3f5f"
            },
            "error_y": {
             "color": "#2a3f5f"
            },
            "marker": {
             "line": {
              "color": "#E5ECF6",
              "width": 0.5
             }
            },
            "type": "bar"
           }
          ],
          "barpolar": [
           {
            "marker": {
             "line": {
              "color": "#E5ECF6",
              "width": 0.5
             }
            },
            "type": "barpolar"
           }
          ],
          "carpet": [
           {
            "aaxis": {
             "endlinecolor": "#2a3f5f",
             "gridcolor": "white",
             "linecolor": "white",
             "minorgridcolor": "white",
             "startlinecolor": "#2a3f5f"
            },
            "baxis": {
             "endlinecolor": "#2a3f5f",
             "gridcolor": "white",
             "linecolor": "white",
             "minorgridcolor": "white",
             "startlinecolor": "#2a3f5f"
            },
            "type": "carpet"
           }
          ],
          "choropleth": [
           {
            "colorbar": {
             "outlinewidth": 0,
             "ticks": ""
            },
            "type": "choropleth"
           }
          ],
          "contour": [
           {
            "colorbar": {
             "outlinewidth": 0,
             "ticks": ""
            },
            "colorscale": [
             [
              0,
              "#0d0887"
             ],
             [
              0.1111111111111111,
              "#46039f"
             ],
             [
              0.2222222222222222,
              "#7201a8"
             ],
             [
              0.3333333333333333,
              "#9c179e"
             ],
             [
              0.4444444444444444,
              "#bd3786"
             ],
             [
              0.5555555555555556,
              "#d8576b"
             ],
             [
              0.6666666666666666,
              "#ed7953"
             ],
             [
              0.7777777777777778,
              "#fb9f3a"
             ],
             [
              0.8888888888888888,
              "#fdca26"
             ],
             [
              1,
              "#f0f921"
             ]
            ],
            "type": "contour"
           }
          ],
          "contourcarpet": [
           {
            "colorbar": {
             "outlinewidth": 0,
             "ticks": ""
            },
            "type": "contourcarpet"
           }
          ],
          "heatmap": [
           {
            "colorbar": {
             "outlinewidth": 0,
             "ticks": ""
            },
            "colorscale": [
             [
              0,
              "#0d0887"
             ],
             [
              0.1111111111111111,
              "#46039f"
             ],
             [
              0.2222222222222222,
              "#7201a8"
             ],
             [
              0.3333333333333333,
              "#9c179e"
             ],
             [
              0.4444444444444444,
              "#bd3786"
             ],
             [
              0.5555555555555556,
              "#d8576b"
             ],
             [
              0.6666666666666666,
              "#ed7953"
             ],
             [
              0.7777777777777778,
              "#fb9f3a"
             ],
             [
              0.8888888888888888,
              "#fdca26"
             ],
             [
              1,
              "#f0f921"
             ]
            ],
            "type": "heatmap"
           }
          ],
          "heatmapgl": [
           {
            "colorbar": {
             "outlinewidth": 0,
             "ticks": ""
            },
            "colorscale": [
             [
              0,
              "#0d0887"
             ],
             [
              0.1111111111111111,
              "#46039f"
             ],
             [
              0.2222222222222222,
              "#7201a8"
             ],
             [
              0.3333333333333333,
              "#9c179e"
             ],
             [
              0.4444444444444444,
              "#bd3786"
             ],
             [
              0.5555555555555556,
              "#d8576b"
             ],
             [
              0.6666666666666666,
              "#ed7953"
             ],
             [
              0.7777777777777778,
              "#fb9f3a"
             ],
             [
              0.8888888888888888,
              "#fdca26"
             ],
             [
              1,
              "#f0f921"
             ]
            ],
            "type": "heatmapgl"
           }
          ],
          "histogram": [
           {
            "marker": {
             "colorbar": {
              "outlinewidth": 0,
              "ticks": ""
             }
            },
            "type": "histogram"
           }
          ],
          "histogram2d": [
           {
            "colorbar": {
             "outlinewidth": 0,
             "ticks": ""
            },
            "colorscale": [
             [
              0,
              "#0d0887"
             ],
             [
              0.1111111111111111,
              "#46039f"
             ],
             [
              0.2222222222222222,
              "#7201a8"
             ],
             [
              0.3333333333333333,
              "#9c179e"
             ],
             [
              0.4444444444444444,
              "#bd3786"
             ],
             [
              0.5555555555555556,
              "#d8576b"
             ],
             [
              0.6666666666666666,
              "#ed7953"
             ],
             [
              0.7777777777777778,
              "#fb9f3a"
             ],
             [
              0.8888888888888888,
              "#fdca26"
             ],
             [
              1,
              "#f0f921"
             ]
            ],
            "type": "histogram2d"
           }
          ],
          "histogram2dcontour": [
           {
            "colorbar": {
             "outlinewidth": 0,
             "ticks": ""
            },
            "colorscale": [
             [
              0,
              "#0d0887"
             ],
             [
              0.1111111111111111,
              "#46039f"
             ],
             [
              0.2222222222222222,
              "#7201a8"
             ],
             [
              0.3333333333333333,
              "#9c179e"
             ],
             [
              0.4444444444444444,
              "#bd3786"
             ],
             [
              0.5555555555555556,
              "#d8576b"
             ],
             [
              0.6666666666666666,
              "#ed7953"
             ],
             [
              0.7777777777777778,
              "#fb9f3a"
             ],
             [
              0.8888888888888888,
              "#fdca26"
             ],
             [
              1,
              "#f0f921"
             ]
            ],
            "type": "histogram2dcontour"
           }
          ],
          "mesh3d": [
           {
            "colorbar": {
             "outlinewidth": 0,
             "ticks": ""
            },
            "type": "mesh3d"
           }
          ],
          "parcoords": [
           {
            "line": {
             "colorbar": {
              "outlinewidth": 0,
              "ticks": ""
             }
            },
            "type": "parcoords"
           }
          ],
          "scatter": [
           {
            "marker": {
             "colorbar": {
              "outlinewidth": 0,
              "ticks": ""
             }
            },
            "type": "scatter"
           }
          ],
          "scatter3d": [
           {
            "line": {
             "colorbar": {
              "outlinewidth": 0,
              "ticks": ""
             }
            },
            "marker": {
             "colorbar": {
              "outlinewidth": 0,
              "ticks": ""
             }
            },
            "type": "scatter3d"
           }
          ],
          "scattercarpet": [
           {
            "marker": {
             "colorbar": {
              "outlinewidth": 0,
              "ticks": ""
             }
            },
            "type": "scattercarpet"
           }
          ],
          "scattergeo": [
           {
            "marker": {
             "colorbar": {
              "outlinewidth": 0,
              "ticks": ""
             }
            },
            "type": "scattergeo"
           }
          ],
          "scattergl": [
           {
            "marker": {
             "colorbar": {
              "outlinewidth": 0,
              "ticks": ""
             }
            },
            "type": "scattergl"
           }
          ],
          "scattermapbox": [
           {
            "marker": {
             "colorbar": {
              "outlinewidth": 0,
              "ticks": ""
             }
            },
            "type": "scattermapbox"
           }
          ],
          "scatterpolar": [
           {
            "marker": {
             "colorbar": {
              "outlinewidth": 0,
              "ticks": ""
             }
            },
            "type": "scatterpolar"
           }
          ],
          "scatterpolargl": [
           {
            "marker": {
             "colorbar": {
              "outlinewidth": 0,
              "ticks": ""
             }
            },
            "type": "scatterpolargl"
           }
          ],
          "scatterternary": [
           {
            "marker": {
             "colorbar": {
              "outlinewidth": 0,
              "ticks": ""
             }
            },
            "type": "scatterternary"
           }
          ],
          "surface": [
           {
            "colorbar": {
             "outlinewidth": 0,
             "ticks": ""
            },
            "colorscale": [
             [
              0,
              "#0d0887"
             ],
             [
              0.1111111111111111,
              "#46039f"
             ],
             [
              0.2222222222222222,
              "#7201a8"
             ],
             [
              0.3333333333333333,
              "#9c179e"
             ],
             [
              0.4444444444444444,
              "#bd3786"
             ],
             [
              0.5555555555555556,
              "#d8576b"
             ],
             [
              0.6666666666666666,
              "#ed7953"
             ],
             [
              0.7777777777777778,
              "#fb9f3a"
             ],
             [
              0.8888888888888888,
              "#fdca26"
             ],
             [
              1,
              "#f0f921"
             ]
            ],
            "type": "surface"
           }
          ],
          "table": [
           {
            "cells": {
             "fill": {
              "color": "#EBF0F8"
             },
             "line": {
              "color": "white"
             }
            },
            "header": {
             "fill": {
              "color": "#C8D4E3"
             },
             "line": {
              "color": "white"
             }
            },
            "type": "table"
           }
          ]
         },
         "layout": {
          "annotationdefaults": {
           "arrowcolor": "#2a3f5f",
           "arrowhead": 0,
           "arrowwidth": 1
          },
          "colorscale": {
           "diverging": [
            [
             0,
             "#8e0152"
            ],
            [
             0.1,
             "#c51b7d"
            ],
            [
             0.2,
             "#de77ae"
            ],
            [
             0.3,
             "#f1b6da"
            ],
            [
             0.4,
             "#fde0ef"
            ],
            [
             0.5,
             "#f7f7f7"
            ],
            [
             0.6,
             "#e6f5d0"
            ],
            [
             0.7,
             "#b8e186"
            ],
            [
             0.8,
             "#7fbc41"
            ],
            [
             0.9,
             "#4d9221"
            ],
            [
             1,
             "#276419"
            ]
           ],
           "sequential": [
            [
             0,
             "#0d0887"
            ],
            [
             0.1111111111111111,
             "#46039f"
            ],
            [
             0.2222222222222222,
             "#7201a8"
            ],
            [
             0.3333333333333333,
             "#9c179e"
            ],
            [
             0.4444444444444444,
             "#bd3786"
            ],
            [
             0.5555555555555556,
             "#d8576b"
            ],
            [
             0.6666666666666666,
             "#ed7953"
            ],
            [
             0.7777777777777778,
             "#fb9f3a"
            ],
            [
             0.8888888888888888,
             "#fdca26"
            ],
            [
             1,
             "#f0f921"
            ]
           ],
           "sequentialminus": [
            [
             0,
             "#0d0887"
            ],
            [
             0.1111111111111111,
             "#46039f"
            ],
            [
             0.2222222222222222,
             "#7201a8"
            ],
            [
             0.3333333333333333,
             "#9c179e"
            ],
            [
             0.4444444444444444,
             "#bd3786"
            ],
            [
             0.5555555555555556,
             "#d8576b"
            ],
            [
             0.6666666666666666,
             "#ed7953"
            ],
            [
             0.7777777777777778,
             "#fb9f3a"
            ],
            [
             0.8888888888888888,
             "#fdca26"
            ],
            [
             1,
             "#f0f921"
            ]
           ]
          },
          "colorway": [
           "#636efa",
           "#EF553B",
           "#00cc96",
           "#ab63fa",
           "#FFA15A",
           "#19d3f3",
           "#FF6692",
           "#B6E880",
           "#FF97FF",
           "#FECB52"
          ],
          "font": {
           "color": "#2a3f5f"
          },
          "geo": {
           "bgcolor": "white",
           "lakecolor": "white",
           "landcolor": "#E5ECF6",
           "showlakes": true,
           "showland": true,
           "subunitcolor": "white"
          },
          "hoverlabel": {
           "align": "left"
          },
          "hovermode": "closest",
          "mapbox": {
           "style": "light"
          },
          "paper_bgcolor": "white",
          "plot_bgcolor": "#E5ECF6",
          "polar": {
           "angularaxis": {
            "gridcolor": "white",
            "linecolor": "white",
            "ticks": ""
           },
           "bgcolor": "#E5ECF6",
           "radialaxis": {
            "gridcolor": "white",
            "linecolor": "white",
            "ticks": ""
           }
          },
          "scene": {
           "xaxis": {
            "backgroundcolor": "#E5ECF6",
            "gridcolor": "white",
            "gridwidth": 2,
            "linecolor": "white",
            "showbackground": true,
            "ticks": "",
            "zerolinecolor": "white"
           },
           "yaxis": {
            "backgroundcolor": "#E5ECF6",
            "gridcolor": "white",
            "gridwidth": 2,
            "linecolor": "white",
            "showbackground": true,
            "ticks": "",
            "zerolinecolor": "white"
           },
           "zaxis": {
            "backgroundcolor": "#E5ECF6",
            "gridcolor": "white",
            "gridwidth": 2,
            "linecolor": "white",
            "showbackground": true,
            "ticks": "",
            "zerolinecolor": "white"
           }
          },
          "shapedefaults": {
           "line": {
            "color": "#2a3f5f"
           }
          },
          "ternary": {
           "aaxis": {
            "gridcolor": "white",
            "linecolor": "white",
            "ticks": ""
           },
           "baxis": {
            "gridcolor": "white",
            "linecolor": "white",
            "ticks": ""
           },
           "bgcolor": "#E5ECF6",
           "caxis": {
            "gridcolor": "white",
            "linecolor": "white",
            "ticks": ""
           }
          },
          "title": {
           "x": 0.05
          },
          "xaxis": {
           "automargin": true,
           "gridcolor": "white",
           "linecolor": "white",
           "ticks": "",
           "zerolinecolor": "white",
           "zerolinewidth": 2
          },
          "yaxis": {
           "automargin": true,
           "gridcolor": "white",
           "linecolor": "white",
           "ticks": "",
           "zerolinecolor": "white",
           "zerolinewidth": 2
          }
         }
        }
       }
      },
      "text/html": [
       "<div>\n",
       "        \n",
       "        \n",
       "            <div id=\"4bb8a809-cb9a-46ac-8893-ccf10dcd28b7\" class=\"plotly-graph-div\" style=\"height:525px; width:100%;\"></div>\n",
       "            <script type=\"text/javascript\">\n",
       "                require([\"plotly\"], function(Plotly) {\n",
       "                    window.PLOTLYENV=window.PLOTLYENV || {};\n",
       "                    \n",
       "                if (document.getElementById(\"4bb8a809-cb9a-46ac-8893-ccf10dcd28b7\")) {\n",
       "                    Plotly.newPlot(\n",
       "                        '4bb8a809-cb9a-46ac-8893-ccf10dcd28b7',\n",
       "                        [{\"line\": {\"color\": \"skyblue\", \"width\": 2}, \"mode\": \"lines\", \"name\": \"close price\", \"type\": \"scatter\", \"x\": [\"2019-12-02T12:30:00\", \"2019-12-02T14:30:00\", \"2019-12-02T16:30:00\", \"2019-12-02T18:30:00\", \"2019-12-02T20:30:00\", \"2019-12-02T22:30:00\", \"2019-12-03T00:30:00\", \"2019-12-03T02:30:00\", \"2019-12-03T04:30:00\", \"2019-12-03T06:30:00\", \"2019-12-03T08:30:00\", \"2019-12-03T10:30:00\", \"2019-12-03T12:30:00\", \"2019-12-03T14:30:00\", \"2019-12-03T16:30:00\", \"2019-12-03T18:30:00\", \"2019-12-03T20:30:00\", \"2019-12-03T22:30:00\", \"2019-12-04T00:30:00\", \"2019-12-04T02:30:00\", \"2019-12-04T04:30:00\", \"2019-12-04T06:30:00\", \"2019-12-04T08:30:00\", \"2019-12-04T10:30:00\", \"2019-12-04T12:30:00\", \"2019-12-04T14:30:00\", \"2019-12-04T16:30:00\", \"2019-12-04T18:30:00\", \"2019-12-04T20:30:00\", \"2019-12-04T22:30:00\", \"2019-12-05T00:30:00\", \"2019-12-05T02:30:00\", \"2019-12-05T04:30:00\", \"2019-12-05T06:30:00\", \"2019-12-05T08:30:00\", \"2019-12-05T10:30:00\", \"2019-12-05T12:30:00\", \"2019-12-05T14:30:00\", \"2019-12-05T16:30:00\", \"2019-12-05T18:30:00\", \"2019-12-05T20:30:00\", \"2019-12-05T22:30:00\", \"2019-12-06T00:30:00\", \"2019-12-06T02:30:00\", \"2019-12-06T04:30:00\", \"2019-12-06T06:30:00\", \"2019-12-06T08:30:00\", \"2019-12-06T10:30:00\", \"2019-12-06T12:30:00\", \"2019-12-06T14:30:00\", \"2019-12-06T16:30:00\", \"2019-12-06T18:30:00\", \"2019-12-06T20:30:00\", \"2019-12-06T22:30:00\", \"2019-12-07T00:30:00\", \"2019-12-07T02:30:00\", \"2019-12-07T04:30:00\", \"2019-12-07T06:30:00\", \"2019-12-07T08:30:00\", \"2019-12-07T10:30:00\", \"2019-12-07T12:30:00\", \"2019-12-07T14:30:00\", \"2019-12-07T16:30:00\", \"2019-12-07T18:30:00\", \"2019-12-07T20:30:00\", \"2019-12-07T22:30:00\", \"2019-12-08T00:30:00\", \"2019-12-08T02:30:00\", \"2019-12-08T04:30:00\", \"2019-12-08T06:30:00\", \"2019-12-08T08:30:00\", \"2019-12-08T10:30:00\", \"2019-12-08T12:30:00\", \"2019-12-08T14:30:00\", \"2019-12-08T16:30:00\", \"2019-12-08T18:30:00\", \"2019-12-08T20:30:00\", \"2019-12-08T22:30:00\", \"2019-12-09T00:30:00\", \"2019-12-09T02:30:00\", \"2019-12-09T04:30:00\", \"2019-12-09T06:30:00\", \"2019-12-09T08:30:00\", \"2019-12-09T10:30:00\"], \"y\": [735.884, 728.1020000000001, 725.296, 729.8240000000001, 729.791, 730.7130000000001, 730.8760000000001, 728.599, 727.398, 727.398, 726.4996212594, 731.4725758623, 731.9675805564, 724.7357312931, 726.4548019209, 723.3084843582, 723.3084843582, 723.3084843582, 723.3084843582, 722.5166879747999, 721.8836452871999, 721.9773198281999, 719.0960881566, 705.6838659809999, 705.6838659809999, 705.6838659809999, 705.6838659809999, 705.6838659809999, 705.6838659809999, 705.6838659809999, 702.7501951413, 702.954432091, 703.9633814462, 675.8756243498999, 677.1179873619, 679.4991831348999, 679.4991831348999, 679.4991831348999, 679.4991831348999, 679.4991831348999, 685.2889163451999, 686.0587732743999, 682.1778761457999, 682.6948332141999, 685.6942999455999, 685.7231230914999, 687.0136562046999, 687.9471542202999, 685.4237342856999, 687.596627575, 685.0183506852999, 686.8658213595999, 682.3331492220999, 682.3331492220999, 682.3331492220999, 682.3331492220999, 678.3260280060999, 680.4915708540999, 686.9389202941, 685.3747650300999, 687.1460750460999, 689.8171849981, 686.3922872700999, 683.9456710141, 686.7116888700999, 685.9962292861, 685.3510380540998, 685.2333157500999, 685.2333157500999, 685.2333157500999, 685.2333157500999, 685.2333157500999, 685.2333157500999, 685.2333157500999, 685.2333157500999, 685.2333157500999, 685.2333157500999, 685.2333157500999, 685.2333157500999, 683.3908319808999, 682.5081832752999, 683.6378283265, 681.9742352928998, 682.6126118773]}, {\"line\": {\"color\": \"green\", \"width\": 1}, \"mode\": \"markers\", \"name\": \"buy point\", \"type\": \"scatter\", \"x\": [\"2019-12-02T20:30:00\", \"2019-12-03T06:30:00\", \"2019-12-04T00:30:00\", \"2019-12-04T22:30:00\", \"2019-12-05T18:30:00\", \"2019-12-07T02:30:00\", \"2019-12-09T00:30:00\"], \"y\": [729.791, 727.398, 723.3084843582, 705.6838659809999, 679.4991831348999, 682.3331492220999, 685.2333157500999]}, {\"line\": {\"color\": \"orange\", \"width\": 1}, \"mode\": \"markers\", \"name\": \"sell point\", \"type\": \"scatter\", \"x\": [\"2019-12-03T04:30:00\", \"2019-12-03T18:30:00\", \"2019-12-04T10:30:00\", \"2019-12-05T10:30:00\", \"2019-12-06T20:30:00\", \"2019-12-08T02:30:00\", \"2019-12-09T10:30:00\"], \"y\": [727.398, 723.3084843582, 705.6838659809999, 679.4991831348999, 682.3331492220999, 685.2333157500999, 682.6126118773]}],\n",
       "                        {\"template\": {\"data\": {\"bar\": [{\"error_x\": {\"color\": \"#2a3f5f\"}, \"error_y\": {\"color\": \"#2a3f5f\"}, \"marker\": {\"line\": {\"color\": \"#E5ECF6\", \"width\": 0.5}}, \"type\": \"bar\"}], \"barpolar\": [{\"marker\": {\"line\": {\"color\": \"#E5ECF6\", \"width\": 0.5}}, \"type\": \"barpolar\"}], \"carpet\": [{\"aaxis\": {\"endlinecolor\": \"#2a3f5f\", \"gridcolor\": \"white\", \"linecolor\": \"white\", \"minorgridcolor\": \"white\", \"startlinecolor\": \"#2a3f5f\"}, \"baxis\": {\"endlinecolor\": \"#2a3f5f\", \"gridcolor\": \"white\", \"linecolor\": \"white\", \"minorgridcolor\": \"white\", \"startlinecolor\": \"#2a3f5f\"}, \"type\": \"carpet\"}], \"choropleth\": [{\"colorbar\": {\"outlinewidth\": 0, \"ticks\": \"\"}, \"type\": \"choropleth\"}], \"contour\": [{\"colorbar\": {\"outlinewidth\": 0, \"ticks\": \"\"}, \"colorscale\": [[0.0, \"#0d0887\"], [0.1111111111111111, \"#46039f\"], [0.2222222222222222, \"#7201a8\"], [0.3333333333333333, \"#9c179e\"], [0.4444444444444444, \"#bd3786\"], [0.5555555555555556, \"#d8576b\"], [0.6666666666666666, \"#ed7953\"], [0.7777777777777778, \"#fb9f3a\"], [0.8888888888888888, \"#fdca26\"], [1.0, \"#f0f921\"]], \"type\": \"contour\"}], \"contourcarpet\": [{\"colorbar\": {\"outlinewidth\": 0, \"ticks\": \"\"}, \"type\": \"contourcarpet\"}], \"heatmap\": [{\"colorbar\": {\"outlinewidth\": 0, \"ticks\": \"\"}, \"colorscale\": [[0.0, \"#0d0887\"], [0.1111111111111111, \"#46039f\"], [0.2222222222222222, \"#7201a8\"], [0.3333333333333333, \"#9c179e\"], [0.4444444444444444, \"#bd3786\"], [0.5555555555555556, \"#d8576b\"], [0.6666666666666666, \"#ed7953\"], [0.7777777777777778, \"#fb9f3a\"], [0.8888888888888888, \"#fdca26\"], [1.0, \"#f0f921\"]], \"type\": \"heatmap\"}], \"heatmapgl\": [{\"colorbar\": {\"outlinewidth\": 0, \"ticks\": \"\"}, \"colorscale\": [[0.0, \"#0d0887\"], [0.1111111111111111, \"#46039f\"], [0.2222222222222222, \"#7201a8\"], [0.3333333333333333, \"#9c179e\"], [0.4444444444444444, \"#bd3786\"], [0.5555555555555556, \"#d8576b\"], [0.6666666666666666, \"#ed7953\"], [0.7777777777777778, \"#fb9f3a\"], [0.8888888888888888, \"#fdca26\"], [1.0, \"#f0f921\"]], \"type\": \"heatmapgl\"}], \"histogram\": [{\"marker\": {\"colorbar\": {\"outlinewidth\": 0, \"ticks\": \"\"}}, \"type\": \"histogram\"}], \"histogram2d\": [{\"colorbar\": {\"outlinewidth\": 0, \"ticks\": \"\"}, \"colorscale\": [[0.0, \"#0d0887\"], [0.1111111111111111, \"#46039f\"], [0.2222222222222222, \"#7201a8\"], [0.3333333333333333, \"#9c179e\"], [0.4444444444444444, \"#bd3786\"], [0.5555555555555556, \"#d8576b\"], [0.6666666666666666, \"#ed7953\"], [0.7777777777777778, \"#fb9f3a\"], [0.8888888888888888, \"#fdca26\"], [1.0, \"#f0f921\"]], \"type\": \"histogram2d\"}], \"histogram2dcontour\": [{\"colorbar\": {\"outlinewidth\": 0, \"ticks\": \"\"}, \"colorscale\": [[0.0, \"#0d0887\"], [0.1111111111111111, \"#46039f\"], [0.2222222222222222, \"#7201a8\"], [0.3333333333333333, \"#9c179e\"], [0.4444444444444444, \"#bd3786\"], [0.5555555555555556, \"#d8576b\"], [0.6666666666666666, \"#ed7953\"], [0.7777777777777778, \"#fb9f3a\"], [0.8888888888888888, \"#fdca26\"], [1.0, \"#f0f921\"]], \"type\": \"histogram2dcontour\"}], \"mesh3d\": [{\"colorbar\": {\"outlinewidth\": 0, \"ticks\": \"\"}, \"type\": \"mesh3d\"}], \"parcoords\": [{\"line\": {\"colorbar\": {\"outlinewidth\": 0, \"ticks\": \"\"}}, \"type\": \"parcoords\"}], \"scatter\": [{\"marker\": {\"colorbar\": {\"outlinewidth\": 0, \"ticks\": \"\"}}, \"type\": \"scatter\"}], \"scatter3d\": [{\"line\": {\"colorbar\": {\"outlinewidth\": 0, \"ticks\": \"\"}}, \"marker\": {\"colorbar\": {\"outlinewidth\": 0, \"ticks\": \"\"}}, \"type\": \"scatter3d\"}], \"scattercarpet\": [{\"marker\": {\"colorbar\": {\"outlinewidth\": 0, \"ticks\": \"\"}}, \"type\": \"scattercarpet\"}], \"scattergeo\": [{\"marker\": {\"colorbar\": {\"outlinewidth\": 0, \"ticks\": \"\"}}, \"type\": \"scattergeo\"}], \"scattergl\": [{\"marker\": {\"colorbar\": {\"outlinewidth\": 0, \"ticks\": \"\"}}, \"type\": \"scattergl\"}], \"scattermapbox\": [{\"marker\": {\"colorbar\": {\"outlinewidth\": 0, \"ticks\": \"\"}}, \"type\": \"scattermapbox\"}], \"scatterpolar\": [{\"marker\": {\"colorbar\": {\"outlinewidth\": 0, \"ticks\": \"\"}}, \"type\": \"scatterpolar\"}], \"scatterpolargl\": [{\"marker\": {\"colorbar\": {\"outlinewidth\": 0, \"ticks\": \"\"}}, \"type\": \"scatterpolargl\"}], \"scatterternary\": [{\"marker\": {\"colorbar\": {\"outlinewidth\": 0, \"ticks\": \"\"}}, \"type\": \"scatterternary\"}], \"surface\": [{\"colorbar\": {\"outlinewidth\": 0, \"ticks\": \"\"}, \"colorscale\": [[0.0, \"#0d0887\"], [0.1111111111111111, \"#46039f\"], [0.2222222222222222, \"#7201a8\"], [0.3333333333333333, \"#9c179e\"], [0.4444444444444444, \"#bd3786\"], [0.5555555555555556, \"#d8576b\"], [0.6666666666666666, \"#ed7953\"], [0.7777777777777778, \"#fb9f3a\"], [0.8888888888888888, \"#fdca26\"], [1.0, \"#f0f921\"]], \"type\": \"surface\"}], \"table\": [{\"cells\": {\"fill\": {\"color\": \"#EBF0F8\"}, \"line\": {\"color\": \"white\"}}, \"header\": {\"fill\": {\"color\": \"#C8D4E3\"}, \"line\": {\"color\": \"white\"}}, \"type\": \"table\"}]}, \"layout\": {\"annotationdefaults\": {\"arrowcolor\": \"#2a3f5f\", \"arrowhead\": 0, \"arrowwidth\": 1}, \"colorscale\": {\"diverging\": [[0, \"#8e0152\"], [0.1, \"#c51b7d\"], [0.2, \"#de77ae\"], [0.3, \"#f1b6da\"], [0.4, \"#fde0ef\"], [0.5, \"#f7f7f7\"], [0.6, \"#e6f5d0\"], [0.7, \"#b8e186\"], [0.8, \"#7fbc41\"], [0.9, \"#4d9221\"], [1, \"#276419\"]], \"sequential\": [[0.0, \"#0d0887\"], [0.1111111111111111, \"#46039f\"], [0.2222222222222222, \"#7201a8\"], [0.3333333333333333, \"#9c179e\"], [0.4444444444444444, \"#bd3786\"], [0.5555555555555556, \"#d8576b\"], [0.6666666666666666, \"#ed7953\"], [0.7777777777777778, \"#fb9f3a\"], [0.8888888888888888, \"#fdca26\"], [1.0, \"#f0f921\"]], \"sequentialminus\": [[0.0, \"#0d0887\"], [0.1111111111111111, \"#46039f\"], [0.2222222222222222, \"#7201a8\"], [0.3333333333333333, \"#9c179e\"], [0.4444444444444444, \"#bd3786\"], [0.5555555555555556, \"#d8576b\"], [0.6666666666666666, \"#ed7953\"], [0.7777777777777778, \"#fb9f3a\"], [0.8888888888888888, \"#fdca26\"], [1.0, \"#f0f921\"]]}, \"colorway\": [\"#636efa\", \"#EF553B\", \"#00cc96\", \"#ab63fa\", \"#FFA15A\", \"#19d3f3\", \"#FF6692\", \"#B6E880\", \"#FF97FF\", \"#FECB52\"], \"font\": {\"color\": \"#2a3f5f\"}, \"geo\": {\"bgcolor\": \"white\", \"lakecolor\": \"white\", \"landcolor\": \"#E5ECF6\", \"showlakes\": true, \"showland\": true, \"subunitcolor\": \"white\"}, \"hoverlabel\": {\"align\": \"left\"}, \"hovermode\": \"closest\", \"mapbox\": {\"style\": \"light\"}, \"paper_bgcolor\": \"white\", \"plot_bgcolor\": \"#E5ECF6\", \"polar\": {\"angularaxis\": {\"gridcolor\": \"white\", \"linecolor\": \"white\", \"ticks\": \"\"}, \"bgcolor\": \"#E5ECF6\", \"radialaxis\": {\"gridcolor\": \"white\", \"linecolor\": \"white\", \"ticks\": \"\"}}, \"scene\": {\"xaxis\": {\"backgroundcolor\": \"#E5ECF6\", \"gridcolor\": \"white\", \"gridwidth\": 2, \"linecolor\": \"white\", \"showbackground\": true, \"ticks\": \"\", \"zerolinecolor\": \"white\"}, \"yaxis\": {\"backgroundcolor\": \"#E5ECF6\", \"gridcolor\": \"white\", \"gridwidth\": 2, \"linecolor\": \"white\", \"showbackground\": true, \"ticks\": \"\", \"zerolinecolor\": \"white\"}, \"zaxis\": {\"backgroundcolor\": \"#E5ECF6\", \"gridcolor\": \"white\", \"gridwidth\": 2, \"linecolor\": \"white\", \"showbackground\": true, \"ticks\": \"\", \"zerolinecolor\": \"white\"}}, \"shapedefaults\": {\"line\": {\"color\": \"#2a3f5f\"}}, \"ternary\": {\"aaxis\": {\"gridcolor\": \"white\", \"linecolor\": \"white\", \"ticks\": \"\"}, \"baxis\": {\"gridcolor\": \"white\", \"linecolor\": \"white\", \"ticks\": \"\"}, \"bgcolor\": \"#E5ECF6\", \"caxis\": {\"gridcolor\": \"white\", \"linecolor\": \"white\", \"ticks\": \"\"}}, \"title\": {\"x\": 0.05}, \"xaxis\": {\"automargin\": true, \"gridcolor\": \"white\", \"linecolor\": \"white\", \"ticks\": \"\", \"zerolinecolor\": \"white\", \"zerolinewidth\": 2}, \"yaxis\": {\"automargin\": true, \"gridcolor\": \"white\", \"linecolor\": \"white\", \"ticks\": \"\", \"zerolinecolor\": \"white\", \"zerolinewidth\": 2}}}},\n",
       "                        {\"responsive\": true}\n",
       "                    ).then(function(){\n",
       "                            \n",
       "var gd = document.getElementById('4bb8a809-cb9a-46ac-8893-ccf10dcd28b7');\n",
       "var x = new MutationObserver(function (mutations, observer) {{\n",
       "        var display = window.getComputedStyle(gd).display;\n",
       "        if (!display || display === 'none') {{\n",
       "            console.log([gd, 'removed!']);\n",
       "            Plotly.purge(gd);\n",
       "            observer.disconnect();\n",
       "        }}\n",
       "}});\n",
       "\n",
       "// Listen for the removal of the full notebook cells\n",
       "var notebookContainer = gd.closest('#notebook-container');\n",
       "if (notebookContainer) {{\n",
       "    x.observe(notebookContainer, {childList: true});\n",
       "}}\n",
       "\n",
       "// Listen for the clearing of the current output cell\n",
       "var outputEl = gd.closest('.output');\n",
       "if (outputEl) {{\n",
       "    x.observe(outputEl, {childList: true});\n",
       "}}\n",
       "\n",
       "                        })\n",
       "                };\n",
       "                });\n",
       "            </script>\n",
       "        </div>"
      ]
     },
     "metadata": {},
     "output_type": "display_data"
    },
    {
     "data": {
      "application/vnd.plotly.v1+json": {
       "config": {
        "plotlyServerURL": "https://plot.ly"
       },
       "data": [
        {
         "line": {
          "color": "skyblue",
          "width": 2
         },
         "mode": "lines",
         "name": "close price",
         "type": "scatter",
         "x": [
          "2019-12-02T12:30:00",
          "2019-12-02T14:30:00",
          "2019-12-02T16:30:00",
          "2019-12-02T18:30:00",
          "2019-12-02T20:30:00",
          "2019-12-02T22:30:00",
          "2019-12-03T00:30:00",
          "2019-12-03T02:30:00",
          "2019-12-03T04:30:00",
          "2019-12-03T06:30:00",
          "2019-12-03T08:30:00",
          "2019-12-03T10:30:00",
          "2019-12-03T12:30:00",
          "2019-12-03T14:30:00",
          "2019-12-03T16:30:00",
          "2019-12-03T18:30:00",
          "2019-12-03T20:30:00",
          "2019-12-03T22:30:00",
          "2019-12-04T00:30:00",
          "2019-12-04T02:30:00",
          "2019-12-04T04:30:00",
          "2019-12-04T06:30:00",
          "2019-12-04T08:30:00",
          "2019-12-04T10:30:00",
          "2019-12-04T12:30:00",
          "2019-12-04T14:30:00",
          "2019-12-04T16:30:00",
          "2019-12-04T18:30:00",
          "2019-12-04T20:30:00",
          "2019-12-04T22:30:00",
          "2019-12-05T00:30:00",
          "2019-12-05T02:30:00",
          "2019-12-05T04:30:00",
          "2019-12-05T06:30:00",
          "2019-12-05T08:30:00",
          "2019-12-05T10:30:00",
          "2019-12-05T12:30:00",
          "2019-12-05T14:30:00",
          "2019-12-05T16:30:00",
          "2019-12-05T18:30:00",
          "2019-12-05T20:30:00",
          "2019-12-05T22:30:00",
          "2019-12-06T00:30:00",
          "2019-12-06T02:30:00",
          "2019-12-06T04:30:00",
          "2019-12-06T06:30:00",
          "2019-12-06T08:30:00",
          "2019-12-06T10:30:00",
          "2019-12-06T12:30:00",
          "2019-12-06T14:30:00",
          "2019-12-06T16:30:00",
          "2019-12-06T18:30:00",
          "2019-12-06T20:30:00",
          "2019-12-06T22:30:00",
          "2019-12-07T00:30:00",
          "2019-12-07T02:30:00",
          "2019-12-07T04:30:00",
          "2019-12-07T06:30:00",
          "2019-12-07T08:30:00",
          "2019-12-07T10:30:00",
          "2019-12-07T12:30:00",
          "2019-12-07T14:30:00",
          "2019-12-07T16:30:00",
          "2019-12-07T18:30:00",
          "2019-12-07T20:30:00",
          "2019-12-07T22:30:00",
          "2019-12-08T00:30:00",
          "2019-12-08T02:30:00",
          "2019-12-08T04:30:00",
          "2019-12-08T06:30:00",
          "2019-12-08T08:30:00",
          "2019-12-08T10:30:00",
          "2019-12-08T12:30:00",
          "2019-12-08T14:30:00",
          "2019-12-08T16:30:00",
          "2019-12-08T18:30:00",
          "2019-12-08T20:30:00",
          "2019-12-08T22:30:00",
          "2019-12-09T00:30:00",
          "2019-12-09T02:30:00",
          "2019-12-09T04:30:00",
          "2019-12-09T06:30:00",
          "2019-12-09T08:30:00",
          "2019-12-09T10:30:00"
         ],
         "y": [
          7358.84,
          7281.02,
          7252.96,
          7298.24,
          7297.91,
          7307.13,
          7308.76,
          7285.99,
          7273.98,
          7303.3,
          7294.28,
          7344.21,
          7349.18,
          7276.57,
          7293.83,
          7262.24,
          7266.7,
          7289.16,
          7335.43,
          7327.4,
          7320.98,
          7321.93,
          7292.71,
          7156.69,
          7150.49,
          7127.8,
          7130.6,
          7192.01,
          7200.34,
          7497.83,
          7466.66,
          7468.83,
          7479.55,
          7181.12,
          7194.32,
          7219.62,
          7223.6,
          7321.62,
          7306.73,
          7308.18,
          7370.45,
          7378.73,
          7336.99,
          7342.55,
          7374.81,
          7375.12,
          7389,
          7399.04,
          7371.9,
          7395.27,
          7367.54,
          7387.41,
          7338.66,
          7352.26,
          7375.1,
          7477,
          7433.09,
          7456.82,
          7527.47,
          7510.33,
          7529.74,
          7559.01,
          7521.48,
          7494.67,
          7524.98,
          7517.14,
          7510.07,
          7508.78,
          7520,
          7484.29,
          7488.21,
          7435,
          7403.91,
          7421.96,
          7434.63,
          7486.21,
          7520.03,
          7513.67,
          7546,
          7525.71,
          7515.99,
          7528.43,
          7510.11,
          7517.14
         ]
        },
        {
         "line": {
          "color": "green",
          "width": 1
         },
         "mode": "markers",
         "name": "buy point",
         "type": "scatter",
         "x": [
          "2019-12-02T20:30:00",
          "2019-12-03T06:30:00",
          "2019-12-04T00:30:00",
          "2019-12-04T22:30:00",
          "2019-12-05T18:30:00",
          "2019-12-07T02:30:00",
          "2019-12-09T00:30:00"
         ],
         "y": [
          7297.91,
          7303.3,
          7335.43,
          7497.83,
          7308.18,
          7477,
          7546
         ]
        },
        {
         "line": {
          "color": "orange",
          "width": 1
         },
         "mode": "markers",
         "name": "sell point",
         "type": "scatter",
         "x": [
          "2019-12-03T04:30:00",
          "2019-12-03T18:30:00",
          "2019-12-04T10:30:00",
          "2019-12-05T10:30:00",
          "2019-12-06T20:30:00",
          "2019-12-08T02:30:00",
          "2019-12-09T10:30:00"
         ],
         "y": [
          7273.98,
          7262.24,
          7156.69,
          7219.62,
          7338.66,
          7508.78,
          7517.14
         ]
        }
       ],
       "layout": {
        "template": {
         "data": {
          "bar": [
           {
            "error_x": {
             "color": "#2a3f5f"
            },
            "error_y": {
             "color": "#2a3f5f"
            },
            "marker": {
             "line": {
              "color": "#E5ECF6",
              "width": 0.5
             }
            },
            "type": "bar"
           }
          ],
          "barpolar": [
           {
            "marker": {
             "line": {
              "color": "#E5ECF6",
              "width": 0.5
             }
            },
            "type": "barpolar"
           }
          ],
          "carpet": [
           {
            "aaxis": {
             "endlinecolor": "#2a3f5f",
             "gridcolor": "white",
             "linecolor": "white",
             "minorgridcolor": "white",
             "startlinecolor": "#2a3f5f"
            },
            "baxis": {
             "endlinecolor": "#2a3f5f",
             "gridcolor": "white",
             "linecolor": "white",
             "minorgridcolor": "white",
             "startlinecolor": "#2a3f5f"
            },
            "type": "carpet"
           }
          ],
          "choropleth": [
           {
            "colorbar": {
             "outlinewidth": 0,
             "ticks": ""
            },
            "type": "choropleth"
           }
          ],
          "contour": [
           {
            "colorbar": {
             "outlinewidth": 0,
             "ticks": ""
            },
            "colorscale": [
             [
              0,
              "#0d0887"
             ],
             [
              0.1111111111111111,
              "#46039f"
             ],
             [
              0.2222222222222222,
              "#7201a8"
             ],
             [
              0.3333333333333333,
              "#9c179e"
             ],
             [
              0.4444444444444444,
              "#bd3786"
             ],
             [
              0.5555555555555556,
              "#d8576b"
             ],
             [
              0.6666666666666666,
              "#ed7953"
             ],
             [
              0.7777777777777778,
              "#fb9f3a"
             ],
             [
              0.8888888888888888,
              "#fdca26"
             ],
             [
              1,
              "#f0f921"
             ]
            ],
            "type": "contour"
           }
          ],
          "contourcarpet": [
           {
            "colorbar": {
             "outlinewidth": 0,
             "ticks": ""
            },
            "type": "contourcarpet"
           }
          ],
          "heatmap": [
           {
            "colorbar": {
             "outlinewidth": 0,
             "ticks": ""
            },
            "colorscale": [
             [
              0,
              "#0d0887"
             ],
             [
              0.1111111111111111,
              "#46039f"
             ],
             [
              0.2222222222222222,
              "#7201a8"
             ],
             [
              0.3333333333333333,
              "#9c179e"
             ],
             [
              0.4444444444444444,
              "#bd3786"
             ],
             [
              0.5555555555555556,
              "#d8576b"
             ],
             [
              0.6666666666666666,
              "#ed7953"
             ],
             [
              0.7777777777777778,
              "#fb9f3a"
             ],
             [
              0.8888888888888888,
              "#fdca26"
             ],
             [
              1,
              "#f0f921"
             ]
            ],
            "type": "heatmap"
           }
          ],
          "heatmapgl": [
           {
            "colorbar": {
             "outlinewidth": 0,
             "ticks": ""
            },
            "colorscale": [
             [
              0,
              "#0d0887"
             ],
             [
              0.1111111111111111,
              "#46039f"
             ],
             [
              0.2222222222222222,
              "#7201a8"
             ],
             [
              0.3333333333333333,
              "#9c179e"
             ],
             [
              0.4444444444444444,
              "#bd3786"
             ],
             [
              0.5555555555555556,
              "#d8576b"
             ],
             [
              0.6666666666666666,
              "#ed7953"
             ],
             [
              0.7777777777777778,
              "#fb9f3a"
             ],
             [
              0.8888888888888888,
              "#fdca26"
             ],
             [
              1,
              "#f0f921"
             ]
            ],
            "type": "heatmapgl"
           }
          ],
          "histogram": [
           {
            "marker": {
             "colorbar": {
              "outlinewidth": 0,
              "ticks": ""
             }
            },
            "type": "histogram"
           }
          ],
          "histogram2d": [
           {
            "colorbar": {
             "outlinewidth": 0,
             "ticks": ""
            },
            "colorscale": [
             [
              0,
              "#0d0887"
             ],
             [
              0.1111111111111111,
              "#46039f"
             ],
             [
              0.2222222222222222,
              "#7201a8"
             ],
             [
              0.3333333333333333,
              "#9c179e"
             ],
             [
              0.4444444444444444,
              "#bd3786"
             ],
             [
              0.5555555555555556,
              "#d8576b"
             ],
             [
              0.6666666666666666,
              "#ed7953"
             ],
             [
              0.7777777777777778,
              "#fb9f3a"
             ],
             [
              0.8888888888888888,
              "#fdca26"
             ],
             [
              1,
              "#f0f921"
             ]
            ],
            "type": "histogram2d"
           }
          ],
          "histogram2dcontour": [
           {
            "colorbar": {
             "outlinewidth": 0,
             "ticks": ""
            },
            "colorscale": [
             [
              0,
              "#0d0887"
             ],
             [
              0.1111111111111111,
              "#46039f"
             ],
             [
              0.2222222222222222,
              "#7201a8"
             ],
             [
              0.3333333333333333,
              "#9c179e"
             ],
             [
              0.4444444444444444,
              "#bd3786"
             ],
             [
              0.5555555555555556,
              "#d8576b"
             ],
             [
              0.6666666666666666,
              "#ed7953"
             ],
             [
              0.7777777777777778,
              "#fb9f3a"
             ],
             [
              0.8888888888888888,
              "#fdca26"
             ],
             [
              1,
              "#f0f921"
             ]
            ],
            "type": "histogram2dcontour"
           }
          ],
          "mesh3d": [
           {
            "colorbar": {
             "outlinewidth": 0,
             "ticks": ""
            },
            "type": "mesh3d"
           }
          ],
          "parcoords": [
           {
            "line": {
             "colorbar": {
              "outlinewidth": 0,
              "ticks": ""
             }
            },
            "type": "parcoords"
           }
          ],
          "scatter": [
           {
            "marker": {
             "colorbar": {
              "outlinewidth": 0,
              "ticks": ""
             }
            },
            "type": "scatter"
           }
          ],
          "scatter3d": [
           {
            "line": {
             "colorbar": {
              "outlinewidth": 0,
              "ticks": ""
             }
            },
            "marker": {
             "colorbar": {
              "outlinewidth": 0,
              "ticks": ""
             }
            },
            "type": "scatter3d"
           }
          ],
          "scattercarpet": [
           {
            "marker": {
             "colorbar": {
              "outlinewidth": 0,
              "ticks": ""
             }
            },
            "type": "scattercarpet"
           }
          ],
          "scattergeo": [
           {
            "marker": {
             "colorbar": {
              "outlinewidth": 0,
              "ticks": ""
             }
            },
            "type": "scattergeo"
           }
          ],
          "scattergl": [
           {
            "marker": {
             "colorbar": {
              "outlinewidth": 0,
              "ticks": ""
             }
            },
            "type": "scattergl"
           }
          ],
          "scattermapbox": [
           {
            "marker": {
             "colorbar": {
              "outlinewidth": 0,
              "ticks": ""
             }
            },
            "type": "scattermapbox"
           }
          ],
          "scatterpolar": [
           {
            "marker": {
             "colorbar": {
              "outlinewidth": 0,
              "ticks": ""
             }
            },
            "type": "scatterpolar"
           }
          ],
          "scatterpolargl": [
           {
            "marker": {
             "colorbar": {
              "outlinewidth": 0,
              "ticks": ""
             }
            },
            "type": "scatterpolargl"
           }
          ],
          "scatterternary": [
           {
            "marker": {
             "colorbar": {
              "outlinewidth": 0,
              "ticks": ""
             }
            },
            "type": "scatterternary"
           }
          ],
          "surface": [
           {
            "colorbar": {
             "outlinewidth": 0,
             "ticks": ""
            },
            "colorscale": [
             [
              0,
              "#0d0887"
             ],
             [
              0.1111111111111111,
              "#46039f"
             ],
             [
              0.2222222222222222,
              "#7201a8"
             ],
             [
              0.3333333333333333,
              "#9c179e"
             ],
             [
              0.4444444444444444,
              "#bd3786"
             ],
             [
              0.5555555555555556,
              "#d8576b"
             ],
             [
              0.6666666666666666,
              "#ed7953"
             ],
             [
              0.7777777777777778,
              "#fb9f3a"
             ],
             [
              0.8888888888888888,
              "#fdca26"
             ],
             [
              1,
              "#f0f921"
             ]
            ],
            "type": "surface"
           }
          ],
          "table": [
           {
            "cells": {
             "fill": {
              "color": "#EBF0F8"
             },
             "line": {
              "color": "white"
             }
            },
            "header": {
             "fill": {
              "color": "#C8D4E3"
             },
             "line": {
              "color": "white"
             }
            },
            "type": "table"
           }
          ]
         },
         "layout": {
          "annotationdefaults": {
           "arrowcolor": "#2a3f5f",
           "arrowhead": 0,
           "arrowwidth": 1
          },
          "colorscale": {
           "diverging": [
            [
             0,
             "#8e0152"
            ],
            [
             0.1,
             "#c51b7d"
            ],
            [
             0.2,
             "#de77ae"
            ],
            [
             0.3,
             "#f1b6da"
            ],
            [
             0.4,
             "#fde0ef"
            ],
            [
             0.5,
             "#f7f7f7"
            ],
            [
             0.6,
             "#e6f5d0"
            ],
            [
             0.7,
             "#b8e186"
            ],
            [
             0.8,
             "#7fbc41"
            ],
            [
             0.9,
             "#4d9221"
            ],
            [
             1,
             "#276419"
            ]
           ],
           "sequential": [
            [
             0,
             "#0d0887"
            ],
            [
             0.1111111111111111,
             "#46039f"
            ],
            [
             0.2222222222222222,
             "#7201a8"
            ],
            [
             0.3333333333333333,
             "#9c179e"
            ],
            [
             0.4444444444444444,
             "#bd3786"
            ],
            [
             0.5555555555555556,
             "#d8576b"
            ],
            [
             0.6666666666666666,
             "#ed7953"
            ],
            [
             0.7777777777777778,
             "#fb9f3a"
            ],
            [
             0.8888888888888888,
             "#fdca26"
            ],
            [
             1,
             "#f0f921"
            ]
           ],
           "sequentialminus": [
            [
             0,
             "#0d0887"
            ],
            [
             0.1111111111111111,
             "#46039f"
            ],
            [
             0.2222222222222222,
             "#7201a8"
            ],
            [
             0.3333333333333333,
             "#9c179e"
            ],
            [
             0.4444444444444444,
             "#bd3786"
            ],
            [
             0.5555555555555556,
             "#d8576b"
            ],
            [
             0.6666666666666666,
             "#ed7953"
            ],
            [
             0.7777777777777778,
             "#fb9f3a"
            ],
            [
             0.8888888888888888,
             "#fdca26"
            ],
            [
             1,
             "#f0f921"
            ]
           ]
          },
          "colorway": [
           "#636efa",
           "#EF553B",
           "#00cc96",
           "#ab63fa",
           "#FFA15A",
           "#19d3f3",
           "#FF6692",
           "#B6E880",
           "#FF97FF",
           "#FECB52"
          ],
          "font": {
           "color": "#2a3f5f"
          },
          "geo": {
           "bgcolor": "white",
           "lakecolor": "white",
           "landcolor": "#E5ECF6",
           "showlakes": true,
           "showland": true,
           "subunitcolor": "white"
          },
          "hoverlabel": {
           "align": "left"
          },
          "hovermode": "closest",
          "mapbox": {
           "style": "light"
          },
          "paper_bgcolor": "white",
          "plot_bgcolor": "#E5ECF6",
          "polar": {
           "angularaxis": {
            "gridcolor": "white",
            "linecolor": "white",
            "ticks": ""
           },
           "bgcolor": "#E5ECF6",
           "radialaxis": {
            "gridcolor": "white",
            "linecolor": "white",
            "ticks": ""
           }
          },
          "scene": {
           "xaxis": {
            "backgroundcolor": "#E5ECF6",
            "gridcolor": "white",
            "gridwidth": 2,
            "linecolor": "white",
            "showbackground": true,
            "ticks": "",
            "zerolinecolor": "white"
           },
           "yaxis": {
            "backgroundcolor": "#E5ECF6",
            "gridcolor": "white",
            "gridwidth": 2,
            "linecolor": "white",
            "showbackground": true,
            "ticks": "",
            "zerolinecolor": "white"
           },
           "zaxis": {
            "backgroundcolor": "#E5ECF6",
            "gridcolor": "white",
            "gridwidth": 2,
            "linecolor": "white",
            "showbackground": true,
            "ticks": "",
            "zerolinecolor": "white"
           }
          },
          "shapedefaults": {
           "line": {
            "color": "#2a3f5f"
           }
          },
          "ternary": {
           "aaxis": {
            "gridcolor": "white",
            "linecolor": "white",
            "ticks": ""
           },
           "baxis": {
            "gridcolor": "white",
            "linecolor": "white",
            "ticks": ""
           },
           "bgcolor": "#E5ECF6",
           "caxis": {
            "gridcolor": "white",
            "linecolor": "white",
            "ticks": ""
           }
          },
          "title": {
           "x": 0.05
          },
          "xaxis": {
           "automargin": true,
           "gridcolor": "white",
           "linecolor": "white",
           "ticks": "",
           "zerolinecolor": "white",
           "zerolinewidth": 2
          },
          "yaxis": {
           "automargin": true,
           "gridcolor": "white",
           "linecolor": "white",
           "ticks": "",
           "zerolinecolor": "white",
           "zerolinewidth": 2
          }
         }
        }
       }
      },
      "text/html": [
       "<div>\n",
       "        \n",
       "        \n",
       "            <div id=\"5f19ea5a-6b0c-42c9-8511-d9fb4f8d9ec3\" class=\"plotly-graph-div\" style=\"height:525px; width:100%;\"></div>\n",
       "            <script type=\"text/javascript\">\n",
       "                require([\"plotly\"], function(Plotly) {\n",
       "                    window.PLOTLYENV=window.PLOTLYENV || {};\n",
       "                    \n",
       "                if (document.getElementById(\"5f19ea5a-6b0c-42c9-8511-d9fb4f8d9ec3\")) {\n",
       "                    Plotly.newPlot(\n",
       "                        '5f19ea5a-6b0c-42c9-8511-d9fb4f8d9ec3',\n",
       "                        [{\"line\": {\"color\": \"skyblue\", \"width\": 2}, \"mode\": \"lines\", \"name\": \"close price\", \"type\": \"scatter\", \"x\": [\"2019-12-02T12:30:00\", \"2019-12-02T14:30:00\", \"2019-12-02T16:30:00\", \"2019-12-02T18:30:00\", \"2019-12-02T20:30:00\", \"2019-12-02T22:30:00\", \"2019-12-03T00:30:00\", \"2019-12-03T02:30:00\", \"2019-12-03T04:30:00\", \"2019-12-03T06:30:00\", \"2019-12-03T08:30:00\", \"2019-12-03T10:30:00\", \"2019-12-03T12:30:00\", \"2019-12-03T14:30:00\", \"2019-12-03T16:30:00\", \"2019-12-03T18:30:00\", \"2019-12-03T20:30:00\", \"2019-12-03T22:30:00\", \"2019-12-04T00:30:00\", \"2019-12-04T02:30:00\", \"2019-12-04T04:30:00\", \"2019-12-04T06:30:00\", \"2019-12-04T08:30:00\", \"2019-12-04T10:30:00\", \"2019-12-04T12:30:00\", \"2019-12-04T14:30:00\", \"2019-12-04T16:30:00\", \"2019-12-04T18:30:00\", \"2019-12-04T20:30:00\", \"2019-12-04T22:30:00\", \"2019-12-05T00:30:00\", \"2019-12-05T02:30:00\", \"2019-12-05T04:30:00\", \"2019-12-05T06:30:00\", \"2019-12-05T08:30:00\", \"2019-12-05T10:30:00\", \"2019-12-05T12:30:00\", \"2019-12-05T14:30:00\", \"2019-12-05T16:30:00\", \"2019-12-05T18:30:00\", \"2019-12-05T20:30:00\", \"2019-12-05T22:30:00\", \"2019-12-06T00:30:00\", \"2019-12-06T02:30:00\", \"2019-12-06T04:30:00\", \"2019-12-06T06:30:00\", \"2019-12-06T08:30:00\", \"2019-12-06T10:30:00\", \"2019-12-06T12:30:00\", \"2019-12-06T14:30:00\", \"2019-12-06T16:30:00\", \"2019-12-06T18:30:00\", \"2019-12-06T20:30:00\", \"2019-12-06T22:30:00\", \"2019-12-07T00:30:00\", \"2019-12-07T02:30:00\", \"2019-12-07T04:30:00\", \"2019-12-07T06:30:00\", \"2019-12-07T08:30:00\", \"2019-12-07T10:30:00\", \"2019-12-07T12:30:00\", \"2019-12-07T14:30:00\", \"2019-12-07T16:30:00\", \"2019-12-07T18:30:00\", \"2019-12-07T20:30:00\", \"2019-12-07T22:30:00\", \"2019-12-08T00:30:00\", \"2019-12-08T02:30:00\", \"2019-12-08T04:30:00\", \"2019-12-08T06:30:00\", \"2019-12-08T08:30:00\", \"2019-12-08T10:30:00\", \"2019-12-08T12:30:00\", \"2019-12-08T14:30:00\", \"2019-12-08T16:30:00\", \"2019-12-08T18:30:00\", \"2019-12-08T20:30:00\", \"2019-12-08T22:30:00\", \"2019-12-09T00:30:00\", \"2019-12-09T02:30:00\", \"2019-12-09T04:30:00\", \"2019-12-09T06:30:00\", \"2019-12-09T08:30:00\", \"2019-12-09T10:30:00\"], \"y\": [7358.84, 7281.02, 7252.96, 7298.24, 7297.91, 7307.13, 7308.76, 7285.99, 7273.98, 7303.3, 7294.28, 7344.21, 7349.18, 7276.57, 7293.83, 7262.24, 7266.7, 7289.16, 7335.43, 7327.4, 7320.98, 7321.93, 7292.71, 7156.69, 7150.49, 7127.8, 7130.6, 7192.01, 7200.34, 7497.83, 7466.66, 7468.83, 7479.55, 7181.12, 7194.32, 7219.62, 7223.6, 7321.62, 7306.73, 7308.18, 7370.45, 7378.73, 7336.99, 7342.55, 7374.81, 7375.12, 7389.0, 7399.04, 7371.9, 7395.27, 7367.54, 7387.41, 7338.66, 7352.26, 7375.1, 7477.0, 7433.09, 7456.82, 7527.47, 7510.33, 7529.74, 7559.01, 7521.48, 7494.67, 7524.98, 7517.14, 7510.07, 7508.78, 7520.0, 7484.29, 7488.21, 7435.0, 7403.91, 7421.96, 7434.63, 7486.21, 7520.03, 7513.67, 7546.0, 7525.71, 7515.99, 7528.43, 7510.11, 7517.14]}, {\"line\": {\"color\": \"green\", \"width\": 1}, \"mode\": \"markers\", \"name\": \"buy point\", \"type\": \"scatter\", \"x\": [\"2019-12-02T20:30:00\", \"2019-12-03T06:30:00\", \"2019-12-04T00:30:00\", \"2019-12-04T22:30:00\", \"2019-12-05T18:30:00\", \"2019-12-07T02:30:00\", \"2019-12-09T00:30:00\"], \"y\": [7297.91, 7303.3, 7335.43, 7497.83, 7308.18, 7477.0, 7546.0]}, {\"line\": {\"color\": \"orange\", \"width\": 1}, \"mode\": \"markers\", \"name\": \"sell point\", \"type\": \"scatter\", \"x\": [\"2019-12-03T04:30:00\", \"2019-12-03T18:30:00\", \"2019-12-04T10:30:00\", \"2019-12-05T10:30:00\", \"2019-12-06T20:30:00\", \"2019-12-08T02:30:00\", \"2019-12-09T10:30:00\"], \"y\": [7273.98, 7262.24, 7156.69, 7219.62, 7338.66, 7508.78, 7517.14]}],\n",
       "                        {\"template\": {\"data\": {\"bar\": [{\"error_x\": {\"color\": \"#2a3f5f\"}, \"error_y\": {\"color\": \"#2a3f5f\"}, \"marker\": {\"line\": {\"color\": \"#E5ECF6\", \"width\": 0.5}}, \"type\": \"bar\"}], \"barpolar\": [{\"marker\": {\"line\": {\"color\": \"#E5ECF6\", \"width\": 0.5}}, \"type\": \"barpolar\"}], \"carpet\": [{\"aaxis\": {\"endlinecolor\": \"#2a3f5f\", \"gridcolor\": \"white\", \"linecolor\": \"white\", \"minorgridcolor\": \"white\", \"startlinecolor\": \"#2a3f5f\"}, \"baxis\": {\"endlinecolor\": \"#2a3f5f\", \"gridcolor\": \"white\", \"linecolor\": \"white\", \"minorgridcolor\": \"white\", \"startlinecolor\": \"#2a3f5f\"}, \"type\": \"carpet\"}], \"choropleth\": [{\"colorbar\": {\"outlinewidth\": 0, \"ticks\": \"\"}, \"type\": \"choropleth\"}], \"contour\": [{\"colorbar\": {\"outlinewidth\": 0, \"ticks\": \"\"}, \"colorscale\": [[0.0, \"#0d0887\"], [0.1111111111111111, \"#46039f\"], [0.2222222222222222, \"#7201a8\"], [0.3333333333333333, \"#9c179e\"], [0.4444444444444444, \"#bd3786\"], [0.5555555555555556, \"#d8576b\"], [0.6666666666666666, \"#ed7953\"], [0.7777777777777778, \"#fb9f3a\"], [0.8888888888888888, \"#fdca26\"], [1.0, \"#f0f921\"]], \"type\": \"contour\"}], \"contourcarpet\": [{\"colorbar\": {\"outlinewidth\": 0, \"ticks\": \"\"}, \"type\": \"contourcarpet\"}], \"heatmap\": [{\"colorbar\": {\"outlinewidth\": 0, \"ticks\": \"\"}, \"colorscale\": [[0.0, \"#0d0887\"], [0.1111111111111111, \"#46039f\"], [0.2222222222222222, \"#7201a8\"], [0.3333333333333333, \"#9c179e\"], [0.4444444444444444, \"#bd3786\"], [0.5555555555555556, \"#d8576b\"], [0.6666666666666666, \"#ed7953\"], [0.7777777777777778, \"#fb9f3a\"], [0.8888888888888888, \"#fdca26\"], [1.0, \"#f0f921\"]], \"type\": \"heatmap\"}], \"heatmapgl\": [{\"colorbar\": {\"outlinewidth\": 0, \"ticks\": \"\"}, \"colorscale\": [[0.0, \"#0d0887\"], [0.1111111111111111, \"#46039f\"], [0.2222222222222222, \"#7201a8\"], [0.3333333333333333, \"#9c179e\"], [0.4444444444444444, \"#bd3786\"], [0.5555555555555556, \"#d8576b\"], [0.6666666666666666, \"#ed7953\"], [0.7777777777777778, \"#fb9f3a\"], [0.8888888888888888, \"#fdca26\"], [1.0, \"#f0f921\"]], \"type\": \"heatmapgl\"}], \"histogram\": [{\"marker\": {\"colorbar\": {\"outlinewidth\": 0, \"ticks\": \"\"}}, \"type\": \"histogram\"}], \"histogram2d\": [{\"colorbar\": {\"outlinewidth\": 0, \"ticks\": \"\"}, \"colorscale\": [[0.0, \"#0d0887\"], [0.1111111111111111, \"#46039f\"], [0.2222222222222222, \"#7201a8\"], [0.3333333333333333, \"#9c179e\"], [0.4444444444444444, \"#bd3786\"], [0.5555555555555556, \"#d8576b\"], [0.6666666666666666, \"#ed7953\"], [0.7777777777777778, \"#fb9f3a\"], [0.8888888888888888, \"#fdca26\"], [1.0, \"#f0f921\"]], \"type\": \"histogram2d\"}], \"histogram2dcontour\": [{\"colorbar\": {\"outlinewidth\": 0, \"ticks\": \"\"}, \"colorscale\": [[0.0, \"#0d0887\"], [0.1111111111111111, \"#46039f\"], [0.2222222222222222, \"#7201a8\"], [0.3333333333333333, \"#9c179e\"], [0.4444444444444444, \"#bd3786\"], [0.5555555555555556, \"#d8576b\"], [0.6666666666666666, \"#ed7953\"], [0.7777777777777778, \"#fb9f3a\"], [0.8888888888888888, \"#fdca26\"], [1.0, \"#f0f921\"]], \"type\": \"histogram2dcontour\"}], \"mesh3d\": [{\"colorbar\": {\"outlinewidth\": 0, \"ticks\": \"\"}, \"type\": \"mesh3d\"}], \"parcoords\": [{\"line\": {\"colorbar\": {\"outlinewidth\": 0, \"ticks\": \"\"}}, \"type\": \"parcoords\"}], \"scatter\": [{\"marker\": {\"colorbar\": {\"outlinewidth\": 0, \"ticks\": \"\"}}, \"type\": \"scatter\"}], \"scatter3d\": [{\"line\": {\"colorbar\": {\"outlinewidth\": 0, \"ticks\": \"\"}}, \"marker\": {\"colorbar\": {\"outlinewidth\": 0, \"ticks\": \"\"}}, \"type\": \"scatter3d\"}], \"scattercarpet\": [{\"marker\": {\"colorbar\": {\"outlinewidth\": 0, \"ticks\": \"\"}}, \"type\": \"scattercarpet\"}], \"scattergeo\": [{\"marker\": {\"colorbar\": {\"outlinewidth\": 0, \"ticks\": \"\"}}, \"type\": \"scattergeo\"}], \"scattergl\": [{\"marker\": {\"colorbar\": {\"outlinewidth\": 0, \"ticks\": \"\"}}, \"type\": \"scattergl\"}], \"scattermapbox\": [{\"marker\": {\"colorbar\": {\"outlinewidth\": 0, \"ticks\": \"\"}}, \"type\": \"scattermapbox\"}], \"scatterpolar\": [{\"marker\": {\"colorbar\": {\"outlinewidth\": 0, \"ticks\": \"\"}}, \"type\": \"scatterpolar\"}], \"scatterpolargl\": [{\"marker\": {\"colorbar\": {\"outlinewidth\": 0, \"ticks\": \"\"}}, \"type\": \"scatterpolargl\"}], \"scatterternary\": [{\"marker\": {\"colorbar\": {\"outlinewidth\": 0, \"ticks\": \"\"}}, \"type\": \"scatterternary\"}], \"surface\": [{\"colorbar\": {\"outlinewidth\": 0, \"ticks\": \"\"}, \"colorscale\": [[0.0, \"#0d0887\"], [0.1111111111111111, \"#46039f\"], [0.2222222222222222, \"#7201a8\"], [0.3333333333333333, \"#9c179e\"], [0.4444444444444444, \"#bd3786\"], [0.5555555555555556, \"#d8576b\"], [0.6666666666666666, \"#ed7953\"], [0.7777777777777778, \"#fb9f3a\"], [0.8888888888888888, \"#fdca26\"], [1.0, \"#f0f921\"]], \"type\": \"surface\"}], \"table\": [{\"cells\": {\"fill\": {\"color\": \"#EBF0F8\"}, \"line\": {\"color\": \"white\"}}, \"header\": {\"fill\": {\"color\": \"#C8D4E3\"}, \"line\": {\"color\": \"white\"}}, \"type\": \"table\"}]}, \"layout\": {\"annotationdefaults\": {\"arrowcolor\": \"#2a3f5f\", \"arrowhead\": 0, \"arrowwidth\": 1}, \"colorscale\": {\"diverging\": [[0, \"#8e0152\"], [0.1, \"#c51b7d\"], [0.2, \"#de77ae\"], [0.3, \"#f1b6da\"], [0.4, \"#fde0ef\"], [0.5, \"#f7f7f7\"], [0.6, \"#e6f5d0\"], [0.7, \"#b8e186\"], [0.8, \"#7fbc41\"], [0.9, \"#4d9221\"], [1, \"#276419\"]], \"sequential\": [[0.0, \"#0d0887\"], [0.1111111111111111, \"#46039f\"], [0.2222222222222222, \"#7201a8\"], [0.3333333333333333, \"#9c179e\"], [0.4444444444444444, \"#bd3786\"], [0.5555555555555556, \"#d8576b\"], [0.6666666666666666, \"#ed7953\"], [0.7777777777777778, \"#fb9f3a\"], [0.8888888888888888, \"#fdca26\"], [1.0, \"#f0f921\"]], \"sequentialminus\": [[0.0, \"#0d0887\"], [0.1111111111111111, \"#46039f\"], [0.2222222222222222, \"#7201a8\"], [0.3333333333333333, \"#9c179e\"], [0.4444444444444444, \"#bd3786\"], [0.5555555555555556, \"#d8576b\"], [0.6666666666666666, \"#ed7953\"], [0.7777777777777778, \"#fb9f3a\"], [0.8888888888888888, \"#fdca26\"], [1.0, \"#f0f921\"]]}, \"colorway\": [\"#636efa\", \"#EF553B\", \"#00cc96\", \"#ab63fa\", \"#FFA15A\", \"#19d3f3\", \"#FF6692\", \"#B6E880\", \"#FF97FF\", \"#FECB52\"], \"font\": {\"color\": \"#2a3f5f\"}, \"geo\": {\"bgcolor\": \"white\", \"lakecolor\": \"white\", \"landcolor\": \"#E5ECF6\", \"showlakes\": true, \"showland\": true, \"subunitcolor\": \"white\"}, \"hoverlabel\": {\"align\": \"left\"}, \"hovermode\": \"closest\", \"mapbox\": {\"style\": \"light\"}, \"paper_bgcolor\": \"white\", \"plot_bgcolor\": \"#E5ECF6\", \"polar\": {\"angularaxis\": {\"gridcolor\": \"white\", \"linecolor\": \"white\", \"ticks\": \"\"}, \"bgcolor\": \"#E5ECF6\", \"radialaxis\": {\"gridcolor\": \"white\", \"linecolor\": \"white\", \"ticks\": \"\"}}, \"scene\": {\"xaxis\": {\"backgroundcolor\": \"#E5ECF6\", \"gridcolor\": \"white\", \"gridwidth\": 2, \"linecolor\": \"white\", \"showbackground\": true, \"ticks\": \"\", \"zerolinecolor\": \"white\"}, \"yaxis\": {\"backgroundcolor\": \"#E5ECF6\", \"gridcolor\": \"white\", \"gridwidth\": 2, \"linecolor\": \"white\", \"showbackground\": true, \"ticks\": \"\", \"zerolinecolor\": \"white\"}, \"zaxis\": {\"backgroundcolor\": \"#E5ECF6\", \"gridcolor\": \"white\", \"gridwidth\": 2, \"linecolor\": \"white\", \"showbackground\": true, \"ticks\": \"\", \"zerolinecolor\": \"white\"}}, \"shapedefaults\": {\"line\": {\"color\": \"#2a3f5f\"}}, \"ternary\": {\"aaxis\": {\"gridcolor\": \"white\", \"linecolor\": \"white\", \"ticks\": \"\"}, \"baxis\": {\"gridcolor\": \"white\", \"linecolor\": \"white\", \"ticks\": \"\"}, \"bgcolor\": \"#E5ECF6\", \"caxis\": {\"gridcolor\": \"white\", \"linecolor\": \"white\", \"ticks\": \"\"}}, \"title\": {\"x\": 0.05}, \"xaxis\": {\"automargin\": true, \"gridcolor\": \"white\", \"linecolor\": \"white\", \"ticks\": \"\", \"zerolinecolor\": \"white\", \"zerolinewidth\": 2}, \"yaxis\": {\"automargin\": true, \"gridcolor\": \"white\", \"linecolor\": \"white\", \"ticks\": \"\", \"zerolinecolor\": \"white\", \"zerolinewidth\": 2}}}},\n",
       "                        {\"responsive\": true}\n",
       "                    ).then(function(){\n",
       "                            \n",
       "var gd = document.getElementById('5f19ea5a-6b0c-42c9-8511-d9fb4f8d9ec3');\n",
       "var x = new MutationObserver(function (mutations, observer) {{\n",
       "        var display = window.getComputedStyle(gd).display;\n",
       "        if (!display || display === 'none') {{\n",
       "            console.log([gd, 'removed!']);\n",
       "            Plotly.purge(gd);\n",
       "            observer.disconnect();\n",
       "        }}\n",
       "}});\n",
       "\n",
       "// Listen for the removal of the full notebook cells\n",
       "var notebookContainer = gd.closest('#notebook-container');\n",
       "if (notebookContainer) {{\n",
       "    x.observe(notebookContainer, {childList: true});\n",
       "}}\n",
       "\n",
       "// Listen for the clearing of the current output cell\n",
       "var outputEl = gd.closest('.output');\n",
       "if (outputEl) {{\n",
       "    x.observe(outputEl, {childList: true});\n",
       "}}\n",
       "\n",
       "                        })\n",
       "                };\n",
       "                });\n",
       "            </script>\n",
       "        </div>"
      ]
     },
     "metadata": {},
     "output_type": "display_data"
    },
    {
     "data": {
      "application/vnd.plotly.v1+json": {
       "config": {
        "plotlyServerURL": "https://plot.ly"
       },
       "data": [
        {
         "close": [
          7381.572499999999,
          7316.882500000001,
          7241.8225,
          7267.5525,
          7306.39,
          7292.900000000001,
          7305.1325,
          7295.639999999999,
          7277.125,
          7291.97,
          7310.8075,
          7332.657499999999,
          7341.845,
          7311.46,
          7288.4349999999995,
          7284.467499999999,
          7267.330000000001,
          7279.01,
          7314.8150000000005,
          7326.014999999999,
          7328.1925,
          7314.4825,
          7309.9,
          7211.357499999999,
          7150.695,
          7139.624999999999,
          7132.49,
          7149.9349999999995,
          7201.28,
          7411.539999999999,
          7475.325,
          7468.3099999999995,
          7473.9,
          7310.215,
          7196.83,
          7204.945,
          7214.51,
          7267.98,
          7307.150000000001,
          7334.025,
          7348.580000000001,
          7398.5575,
          7361.75,
          7324.5625,
          7362.4875,
          7377.0475,
          7393.860000000001,
          7383.985000000001,
          7390.460000000001,
          7381.0425000000005,
          7372.4775,
          7378.14,
          7356.845,
          7354.147500000001,
          7376.3925,
          7453.764999999999,
          7453.3825,
          7448.1475,
          7497.705,
          7523.1900000000005,
          7528.76,
          7558.58,
          7537.2775,
          7510.1900000000005,
          7507.287499999999,
          7522.662499999999,
          7519.835,
          7511.195,
          7508.0775,
          7499.1900000000005,
          7493.662499999999,
          7458.5625,
          7412.1875,
          7411.045,
          7432.347500000001,
          7457.657499999999,
          7503.657499999999,
          7513.2875,
          7531.68,
          7531.77,
          7523.1849999999995,
          7522.935,
          7523.757500000001,
          7513.025
         ],
         "high": [
          7420.56,
          7388.78125,
          7352.831875,
          7338,
          7369,
          7330,
          7358,
          7330.03,
          7297.517490234375,
          7318,
          7350,
          7400,
          7358.5,
          7357.75,
          7320.301757659912,
          7323.98,
          7299,
          7300.1,
          7356.13,
          7339.66,
          7356.87,
          7331.99,
          7341,
          7313.556780776679,
          7262.457140388339,
          7206.576070194169,
          7173.1005350970845,
          7210.09,
          7233.77,
          7750,
          7535,
          7499.63,
          7491.52,
          7480.22,
          7380.199767715223,
          7288.5148838576115,
          7246.729941928806,
          7376.72,
          7341,
          7433,
          7407.51,
          7485,
          7416.3,
          7362.3524995463185,
          7405,
          7424.29,
          7447.4,
          7433.99,
          7433.81,
          7410,
          7395.73,
          7443.15,
          7396.29,
          7388.09,
          7429.4,
          7590.03,
          7513.44,
          7481.6,
          7550,
          7554.63,
          7566.32,
          7619.62,
          7559.69,
          7549.71,
          7539.9,
          7551.8,
          7549.91,
          7530,
          7527.89,
          7520.46,
          7522.99,
          7499.75,
          7479.056724844277,
          7445.622112422138,
          7453.99,
          7497.88,
          7542.16,
          7531.25,
          7564,
          7552.77,
          7547.54,
          7542,
          7552,
          7523.284933703537
         ],
         "low": [
          7350.9,
          7251.9,
          7151.1,
          7181.01,
          7261.57,
          7236.56,
          7246.31,
          7257.22,
          7260.35,
          7273.29,
          7289.6456225585935,
          7292,
          7315.37,
          7262.02,
          7272.29,
          7258.5,
          7241.35,
          7262.81,
          7278.52,
          7297.378492426873,
          7307.76,
          7283.02,
          7284,
          7102,
          7125.94,
          7113.58,
          7111.11,
          7067,
          7151.36513377427,
          7176.322566887135,
          7293.931283443567,
          7384.628141721783,
          7426.469070860891,
          7100,
          7153.07,
          7162,
          7178.48,
          7150,
          7249.299985482201,
          7278.224992741101,
          7306.12499637055,
          7327.352498185275,
          7315,
          7265,
          7327.59,
          7334.4,
          7363.92,
          7313.91,
          7358.01,
          7347,
          7332,
          7315,
          7305,
          7337.56,
          7348.89,
          7368.598789062389,
          7391.03,
          7421.08,
          7440.214848632799,
          7468.959924316399,
          7496.0749621582,
          7512.4174810791,
          7508.88,
          7475.02,
          7470.16,
          7498.03,
          7502.22,
          7496,
          7476,
          7472.01,
          7480,
          7412.19,
          7374.86,
          7382.33,
          7418.51,
          7411.91,
          7443.999014052767,
          7473.828257026384,
          7493.557878513192,
          7502.6,
          7503,
          7505,
          7505.81,
          7506.5
         ],
         "open": [
          7395.99,
          7388.78125,
          7352.831875,
          7297.3271875,
          7282.43984375,
          7294.414921875001,
          7293.6574609375,
          7299.39498046875,
          7297.517490234375,
          7287.321245117188,
          7289.6456225585935,
          7300.226561279296,
          7316.442030639648,
          7329.143515319824,
          7320.301757659912,
          7304.368378829956,
          7294.417939414978,
          7280.873969707489,
          7279.9419848537445,
          7297.378492426873,
          7311.696746213436,
          7319.944623106718,
          7317.213561553359,
          7313.556780776679,
          7262.457140388339,
          7206.576070194169,
          7173.1005350970845,
          7152.795267548542,
          7151.36513377427,
          7176.322566887135,
          7293.931283443567,
          7384.628141721783,
          7426.469070860891,
          7450.184535430446,
          7380.199767715223,
          7288.5148838576115,
          7246.729941928806,
          7230.6199709644025,
          7249.299985482201,
          7278.224992741101,
          7306.12499637055,
          7327.352498185275,
          7362.954999092637,
          7362.3524995463185,
          7343.45749977316,
          7352.97249988658,
          7365.00999994329,
          7379.434999971645,
          7381.709999985823,
          7386.084999992912,
          7383.563749996456,
          7378.0206249982275,
          7378.080312499114,
          7367.462656249558,
          7360.805078124779,
          7368.598789062389,
          7411.181894531194,
          7432.282197265597,
          7440.214848632799,
          7468.959924316399,
          7496.0749621582,
          7512.4174810791,
          7535.4987405395495,
          7536.388120269775,
          7523.289060134888,
          7515.288280067443,
          7518.975390033722,
          7519.405195016861,
          7515.300097508431,
          7511.688798754216,
          7505.439399377108,
          7499.550949688553,
          7479.056724844277,
          7445.622112422138,
          7428.33355621107,
          7430.340528105535,
          7443.999014052767,
          7473.828257026384,
          7493.557878513192,
          7512.618939256596,
          7522.194469628298,
          7522.689734814148,
          7522.812367407074,
          7523.284933703537
         ],
         "type": "candlestick",
         "x": [
          "2019-12-02T12:30:00",
          "2019-12-02T14:30:00",
          "2019-12-02T16:30:00",
          "2019-12-02T18:30:00",
          "2019-12-02T20:30:00",
          "2019-12-02T22:30:00",
          "2019-12-03T00:30:00",
          "2019-12-03T02:30:00",
          "2019-12-03T04:30:00",
          "2019-12-03T06:30:00",
          "2019-12-03T08:30:00",
          "2019-12-03T10:30:00",
          "2019-12-03T12:30:00",
          "2019-12-03T14:30:00",
          "2019-12-03T16:30:00",
          "2019-12-03T18:30:00",
          "2019-12-03T20:30:00",
          "2019-12-03T22:30:00",
          "2019-12-04T00:30:00",
          "2019-12-04T02:30:00",
          "2019-12-04T04:30:00",
          "2019-12-04T06:30:00",
          "2019-12-04T08:30:00",
          "2019-12-04T10:30:00",
          "2019-12-04T12:30:00",
          "2019-12-04T14:30:00",
          "2019-12-04T16:30:00",
          "2019-12-04T18:30:00",
          "2019-12-04T20:30:00",
          "2019-12-04T22:30:00",
          "2019-12-05T00:30:00",
          "2019-12-05T02:30:00",
          "2019-12-05T04:30:00",
          "2019-12-05T06:30:00",
          "2019-12-05T08:30:00",
          "2019-12-05T10:30:00",
          "2019-12-05T12:30:00",
          "2019-12-05T14:30:00",
          "2019-12-05T16:30:00",
          "2019-12-05T18:30:00",
          "2019-12-05T20:30:00",
          "2019-12-05T22:30:00",
          "2019-12-06T00:30:00",
          "2019-12-06T02:30:00",
          "2019-12-06T04:30:00",
          "2019-12-06T06:30:00",
          "2019-12-06T08:30:00",
          "2019-12-06T10:30:00",
          "2019-12-06T12:30:00",
          "2019-12-06T14:30:00",
          "2019-12-06T16:30:00",
          "2019-12-06T18:30:00",
          "2019-12-06T20:30:00",
          "2019-12-06T22:30:00",
          "2019-12-07T00:30:00",
          "2019-12-07T02:30:00",
          "2019-12-07T04:30:00",
          "2019-12-07T06:30:00",
          "2019-12-07T08:30:00",
          "2019-12-07T10:30:00",
          "2019-12-07T12:30:00",
          "2019-12-07T14:30:00",
          "2019-12-07T16:30:00",
          "2019-12-07T18:30:00",
          "2019-12-07T20:30:00",
          "2019-12-07T22:30:00",
          "2019-12-08T00:30:00",
          "2019-12-08T02:30:00",
          "2019-12-08T04:30:00",
          "2019-12-08T06:30:00",
          "2019-12-08T08:30:00",
          "2019-12-08T10:30:00",
          "2019-12-08T12:30:00",
          "2019-12-08T14:30:00",
          "2019-12-08T16:30:00",
          "2019-12-08T18:30:00",
          "2019-12-08T20:30:00",
          "2019-12-08T22:30:00",
          "2019-12-09T00:30:00",
          "2019-12-09T02:30:00",
          "2019-12-09T04:30:00",
          "2019-12-09T06:30:00",
          "2019-12-09T08:30:00",
          "2019-12-09T10:30:00"
         ]
        }
       ],
       "layout": {
        "template": {
         "data": {
          "bar": [
           {
            "error_x": {
             "color": "#2a3f5f"
            },
            "error_y": {
             "color": "#2a3f5f"
            },
            "marker": {
             "line": {
              "color": "#E5ECF6",
              "width": 0.5
             }
            },
            "type": "bar"
           }
          ],
          "barpolar": [
           {
            "marker": {
             "line": {
              "color": "#E5ECF6",
              "width": 0.5
             }
            },
            "type": "barpolar"
           }
          ],
          "carpet": [
           {
            "aaxis": {
             "endlinecolor": "#2a3f5f",
             "gridcolor": "white",
             "linecolor": "white",
             "minorgridcolor": "white",
             "startlinecolor": "#2a3f5f"
            },
            "baxis": {
             "endlinecolor": "#2a3f5f",
             "gridcolor": "white",
             "linecolor": "white",
             "minorgridcolor": "white",
             "startlinecolor": "#2a3f5f"
            },
            "type": "carpet"
           }
          ],
          "choropleth": [
           {
            "colorbar": {
             "outlinewidth": 0,
             "ticks": ""
            },
            "type": "choropleth"
           }
          ],
          "contour": [
           {
            "colorbar": {
             "outlinewidth": 0,
             "ticks": ""
            },
            "colorscale": [
             [
              0,
              "#0d0887"
             ],
             [
              0.1111111111111111,
              "#46039f"
             ],
             [
              0.2222222222222222,
              "#7201a8"
             ],
             [
              0.3333333333333333,
              "#9c179e"
             ],
             [
              0.4444444444444444,
              "#bd3786"
             ],
             [
              0.5555555555555556,
              "#d8576b"
             ],
             [
              0.6666666666666666,
              "#ed7953"
             ],
             [
              0.7777777777777778,
              "#fb9f3a"
             ],
             [
              0.8888888888888888,
              "#fdca26"
             ],
             [
              1,
              "#f0f921"
             ]
            ],
            "type": "contour"
           }
          ],
          "contourcarpet": [
           {
            "colorbar": {
             "outlinewidth": 0,
             "ticks": ""
            },
            "type": "contourcarpet"
           }
          ],
          "heatmap": [
           {
            "colorbar": {
             "outlinewidth": 0,
             "ticks": ""
            },
            "colorscale": [
             [
              0,
              "#0d0887"
             ],
             [
              0.1111111111111111,
              "#46039f"
             ],
             [
              0.2222222222222222,
              "#7201a8"
             ],
             [
              0.3333333333333333,
              "#9c179e"
             ],
             [
              0.4444444444444444,
              "#bd3786"
             ],
             [
              0.5555555555555556,
              "#d8576b"
             ],
             [
              0.6666666666666666,
              "#ed7953"
             ],
             [
              0.7777777777777778,
              "#fb9f3a"
             ],
             [
              0.8888888888888888,
              "#fdca26"
             ],
             [
              1,
              "#f0f921"
             ]
            ],
            "type": "heatmap"
           }
          ],
          "heatmapgl": [
           {
            "colorbar": {
             "outlinewidth": 0,
             "ticks": ""
            },
            "colorscale": [
             [
              0,
              "#0d0887"
             ],
             [
              0.1111111111111111,
              "#46039f"
             ],
             [
              0.2222222222222222,
              "#7201a8"
             ],
             [
              0.3333333333333333,
              "#9c179e"
             ],
             [
              0.4444444444444444,
              "#bd3786"
             ],
             [
              0.5555555555555556,
              "#d8576b"
             ],
             [
              0.6666666666666666,
              "#ed7953"
             ],
             [
              0.7777777777777778,
              "#fb9f3a"
             ],
             [
              0.8888888888888888,
              "#fdca26"
             ],
             [
              1,
              "#f0f921"
             ]
            ],
            "type": "heatmapgl"
           }
          ],
          "histogram": [
           {
            "marker": {
             "colorbar": {
              "outlinewidth": 0,
              "ticks": ""
             }
            },
            "type": "histogram"
           }
          ],
          "histogram2d": [
           {
            "colorbar": {
             "outlinewidth": 0,
             "ticks": ""
            },
            "colorscale": [
             [
              0,
              "#0d0887"
             ],
             [
              0.1111111111111111,
              "#46039f"
             ],
             [
              0.2222222222222222,
              "#7201a8"
             ],
             [
              0.3333333333333333,
              "#9c179e"
             ],
             [
              0.4444444444444444,
              "#bd3786"
             ],
             [
              0.5555555555555556,
              "#d8576b"
             ],
             [
              0.6666666666666666,
              "#ed7953"
             ],
             [
              0.7777777777777778,
              "#fb9f3a"
             ],
             [
              0.8888888888888888,
              "#fdca26"
             ],
             [
              1,
              "#f0f921"
             ]
            ],
            "type": "histogram2d"
           }
          ],
          "histogram2dcontour": [
           {
            "colorbar": {
             "outlinewidth": 0,
             "ticks": ""
            },
            "colorscale": [
             [
              0,
              "#0d0887"
             ],
             [
              0.1111111111111111,
              "#46039f"
             ],
             [
              0.2222222222222222,
              "#7201a8"
             ],
             [
              0.3333333333333333,
              "#9c179e"
             ],
             [
              0.4444444444444444,
              "#bd3786"
             ],
             [
              0.5555555555555556,
              "#d8576b"
             ],
             [
              0.6666666666666666,
              "#ed7953"
             ],
             [
              0.7777777777777778,
              "#fb9f3a"
             ],
             [
              0.8888888888888888,
              "#fdca26"
             ],
             [
              1,
              "#f0f921"
             ]
            ],
            "type": "histogram2dcontour"
           }
          ],
          "mesh3d": [
           {
            "colorbar": {
             "outlinewidth": 0,
             "ticks": ""
            },
            "type": "mesh3d"
           }
          ],
          "parcoords": [
           {
            "line": {
             "colorbar": {
              "outlinewidth": 0,
              "ticks": ""
             }
            },
            "type": "parcoords"
           }
          ],
          "scatter": [
           {
            "marker": {
             "colorbar": {
              "outlinewidth": 0,
              "ticks": ""
             }
            },
            "type": "scatter"
           }
          ],
          "scatter3d": [
           {
            "line": {
             "colorbar": {
              "outlinewidth": 0,
              "ticks": ""
             }
            },
            "marker": {
             "colorbar": {
              "outlinewidth": 0,
              "ticks": ""
             }
            },
            "type": "scatter3d"
           }
          ],
          "scattercarpet": [
           {
            "marker": {
             "colorbar": {
              "outlinewidth": 0,
              "ticks": ""
             }
            },
            "type": "scattercarpet"
           }
          ],
          "scattergeo": [
           {
            "marker": {
             "colorbar": {
              "outlinewidth": 0,
              "ticks": ""
             }
            },
            "type": "scattergeo"
           }
          ],
          "scattergl": [
           {
            "marker": {
             "colorbar": {
              "outlinewidth": 0,
              "ticks": ""
             }
            },
            "type": "scattergl"
           }
          ],
          "scattermapbox": [
           {
            "marker": {
             "colorbar": {
              "outlinewidth": 0,
              "ticks": ""
             }
            },
            "type": "scattermapbox"
           }
          ],
          "scatterpolar": [
           {
            "marker": {
             "colorbar": {
              "outlinewidth": 0,
              "ticks": ""
             }
            },
            "type": "scatterpolar"
           }
          ],
          "scatterpolargl": [
           {
            "marker": {
             "colorbar": {
              "outlinewidth": 0,
              "ticks": ""
             }
            },
            "type": "scatterpolargl"
           }
          ],
          "scatterternary": [
           {
            "marker": {
             "colorbar": {
              "outlinewidth": 0,
              "ticks": ""
             }
            },
            "type": "scatterternary"
           }
          ],
          "surface": [
           {
            "colorbar": {
             "outlinewidth": 0,
             "ticks": ""
            },
            "colorscale": [
             [
              0,
              "#0d0887"
             ],
             [
              0.1111111111111111,
              "#46039f"
             ],
             [
              0.2222222222222222,
              "#7201a8"
             ],
             [
              0.3333333333333333,
              "#9c179e"
             ],
             [
              0.4444444444444444,
              "#bd3786"
             ],
             [
              0.5555555555555556,
              "#d8576b"
             ],
             [
              0.6666666666666666,
              "#ed7953"
             ],
             [
              0.7777777777777778,
              "#fb9f3a"
             ],
             [
              0.8888888888888888,
              "#fdca26"
             ],
             [
              1,
              "#f0f921"
             ]
            ],
            "type": "surface"
           }
          ],
          "table": [
           {
            "cells": {
             "fill": {
              "color": "#EBF0F8"
             },
             "line": {
              "color": "white"
             }
            },
            "header": {
             "fill": {
              "color": "#C8D4E3"
             },
             "line": {
              "color": "white"
             }
            },
            "type": "table"
           }
          ]
         },
         "layout": {
          "annotationdefaults": {
           "arrowcolor": "#2a3f5f",
           "arrowhead": 0,
           "arrowwidth": 1
          },
          "colorscale": {
           "diverging": [
            [
             0,
             "#8e0152"
            ],
            [
             0.1,
             "#c51b7d"
            ],
            [
             0.2,
             "#de77ae"
            ],
            [
             0.3,
             "#f1b6da"
            ],
            [
             0.4,
             "#fde0ef"
            ],
            [
             0.5,
             "#f7f7f7"
            ],
            [
             0.6,
             "#e6f5d0"
            ],
            [
             0.7,
             "#b8e186"
            ],
            [
             0.8,
             "#7fbc41"
            ],
            [
             0.9,
             "#4d9221"
            ],
            [
             1,
             "#276419"
            ]
           ],
           "sequential": [
            [
             0,
             "#0d0887"
            ],
            [
             0.1111111111111111,
             "#46039f"
            ],
            [
             0.2222222222222222,
             "#7201a8"
            ],
            [
             0.3333333333333333,
             "#9c179e"
            ],
            [
             0.4444444444444444,
             "#bd3786"
            ],
            [
             0.5555555555555556,
             "#d8576b"
            ],
            [
             0.6666666666666666,
             "#ed7953"
            ],
            [
             0.7777777777777778,
             "#fb9f3a"
            ],
            [
             0.8888888888888888,
             "#fdca26"
            ],
            [
             1,
             "#f0f921"
            ]
           ],
           "sequentialminus": [
            [
             0,
             "#0d0887"
            ],
            [
             0.1111111111111111,
             "#46039f"
            ],
            [
             0.2222222222222222,
             "#7201a8"
            ],
            [
             0.3333333333333333,
             "#9c179e"
            ],
            [
             0.4444444444444444,
             "#bd3786"
            ],
            [
             0.5555555555555556,
             "#d8576b"
            ],
            [
             0.6666666666666666,
             "#ed7953"
            ],
            [
             0.7777777777777778,
             "#fb9f3a"
            ],
            [
             0.8888888888888888,
             "#fdca26"
            ],
            [
             1,
             "#f0f921"
            ]
           ]
          },
          "colorway": [
           "#636efa",
           "#EF553B",
           "#00cc96",
           "#ab63fa",
           "#FFA15A",
           "#19d3f3",
           "#FF6692",
           "#B6E880",
           "#FF97FF",
           "#FECB52"
          ],
          "font": {
           "color": "#2a3f5f"
          },
          "geo": {
           "bgcolor": "white",
           "lakecolor": "white",
           "landcolor": "#E5ECF6",
           "showlakes": true,
           "showland": true,
           "subunitcolor": "white"
          },
          "hoverlabel": {
           "align": "left"
          },
          "hovermode": "closest",
          "mapbox": {
           "style": "light"
          },
          "paper_bgcolor": "white",
          "plot_bgcolor": "#E5ECF6",
          "polar": {
           "angularaxis": {
            "gridcolor": "white",
            "linecolor": "white",
            "ticks": ""
           },
           "bgcolor": "#E5ECF6",
           "radialaxis": {
            "gridcolor": "white",
            "linecolor": "white",
            "ticks": ""
           }
          },
          "scene": {
           "xaxis": {
            "backgroundcolor": "#E5ECF6",
            "gridcolor": "white",
            "gridwidth": 2,
            "linecolor": "white",
            "showbackground": true,
            "ticks": "",
            "zerolinecolor": "white"
           },
           "yaxis": {
            "backgroundcolor": "#E5ECF6",
            "gridcolor": "white",
            "gridwidth": 2,
            "linecolor": "white",
            "showbackground": true,
            "ticks": "",
            "zerolinecolor": "white"
           },
           "zaxis": {
            "backgroundcolor": "#E5ECF6",
            "gridcolor": "white",
            "gridwidth": 2,
            "linecolor": "white",
            "showbackground": true,
            "ticks": "",
            "zerolinecolor": "white"
           }
          },
          "shapedefaults": {
           "line": {
            "color": "#2a3f5f"
           }
          },
          "ternary": {
           "aaxis": {
            "gridcolor": "white",
            "linecolor": "white",
            "ticks": ""
           },
           "baxis": {
            "gridcolor": "white",
            "linecolor": "white",
            "ticks": ""
           },
           "bgcolor": "#E5ECF6",
           "caxis": {
            "gridcolor": "white",
            "linecolor": "white",
            "ticks": ""
           }
          },
          "title": {
           "x": 0.05
          },
          "xaxis": {
           "automargin": true,
           "gridcolor": "white",
           "linecolor": "white",
           "ticks": "",
           "zerolinecolor": "white",
           "zerolinewidth": 2
          },
          "yaxis": {
           "automargin": true,
           "gridcolor": "white",
           "linecolor": "white",
           "ticks": "",
           "zerolinecolor": "white",
           "zerolinewidth": 2
          }
         }
        }
       }
      },
      "text/html": [
       "<div>\n",
       "        \n",
       "        \n",
       "            <div id=\"7d054034-1f37-476e-8a5f-38f353faa63f\" class=\"plotly-graph-div\" style=\"height:525px; width:100%;\"></div>\n",
       "            <script type=\"text/javascript\">\n",
       "                require([\"plotly\"], function(Plotly) {\n",
       "                    window.PLOTLYENV=window.PLOTLYENV || {};\n",
       "                    \n",
       "                if (document.getElementById(\"7d054034-1f37-476e-8a5f-38f353faa63f\")) {\n",
       "                    Plotly.newPlot(\n",
       "                        '7d054034-1f37-476e-8a5f-38f353faa63f',\n",
       "                        [{\"close\": [7381.572499999999, 7316.882500000001, 7241.8225, 7267.5525, 7306.39, 7292.900000000001, 7305.1325, 7295.639999999999, 7277.125, 7291.97, 7310.8075, 7332.657499999999, 7341.845, 7311.46, 7288.4349999999995, 7284.467499999999, 7267.330000000001, 7279.01, 7314.8150000000005, 7326.014999999999, 7328.1925, 7314.4825, 7309.9, 7211.357499999999, 7150.695, 7139.624999999999, 7132.49, 7149.9349999999995, 7201.28, 7411.539999999999, 7475.325, 7468.3099999999995, 7473.9, 7310.215, 7196.83, 7204.945, 7214.51, 7267.98, 7307.150000000001, 7334.025, 7348.580000000001, 7398.5575, 7361.75, 7324.5625, 7362.4875, 7377.0475, 7393.860000000001, 7383.985000000001, 7390.460000000001, 7381.0425000000005, 7372.4775, 7378.14, 7356.845, 7354.147500000001, 7376.3925, 7453.764999999999, 7453.3825, 7448.1475, 7497.705, 7523.1900000000005, 7528.76, 7558.58, 7537.2775, 7510.1900000000005, 7507.287499999999, 7522.662499999999, 7519.835, 7511.195, 7508.0775, 7499.1900000000005, 7493.662499999999, 7458.5625, 7412.1875, 7411.045, 7432.347500000001, 7457.657499999999, 7503.657499999999, 7513.2875, 7531.68, 7531.77, 7523.1849999999995, 7522.935, 7523.757500000001, 7513.025], \"high\": [7420.56, 7388.78125, 7352.831875, 7338.0, 7369.0, 7330.0, 7358.0, 7330.03, 7297.517490234375, 7318.0, 7350.0, 7400.0, 7358.5, 7357.75, 7320.301757659912, 7323.98, 7299.0, 7300.1, 7356.13, 7339.66, 7356.87, 7331.99, 7341.0, 7313.556780776679, 7262.457140388339, 7206.576070194169, 7173.1005350970845, 7210.09, 7233.77, 7750.0, 7535.0, 7499.63, 7491.52, 7480.22, 7380.199767715223, 7288.5148838576115, 7246.729941928806, 7376.72, 7341.0, 7433.0, 7407.51, 7485.0, 7416.3, 7362.3524995463185, 7405.0, 7424.29, 7447.4, 7433.99, 7433.81, 7410.0, 7395.73, 7443.15, 7396.29, 7388.09, 7429.4, 7590.03, 7513.44, 7481.6, 7550.0, 7554.63, 7566.32, 7619.62, 7559.69, 7549.71, 7539.9, 7551.8, 7549.91, 7530.0, 7527.89, 7520.46, 7522.99, 7499.75, 7479.056724844277, 7445.622112422138, 7453.99, 7497.88, 7542.16, 7531.25, 7564.0, 7552.77, 7547.54, 7542.0, 7552.0, 7523.284933703537], \"low\": [7350.9, 7251.9, 7151.1, 7181.01, 7261.57, 7236.56, 7246.31, 7257.22, 7260.35, 7273.29, 7289.6456225585935, 7292.0, 7315.37, 7262.02, 7272.29, 7258.5, 7241.35, 7262.81, 7278.52, 7297.378492426873, 7307.76, 7283.02, 7284.0, 7102.0, 7125.94, 7113.58, 7111.11, 7067.0, 7151.36513377427, 7176.322566887135, 7293.931283443567, 7384.628141721783, 7426.469070860891, 7100.0, 7153.07, 7162.0, 7178.48, 7150.0, 7249.299985482201, 7278.224992741101, 7306.12499637055, 7327.352498185275, 7315.0, 7265.0, 7327.59, 7334.4, 7363.92, 7313.91, 7358.01, 7347.0, 7332.0, 7315.0, 7305.0, 7337.56, 7348.89, 7368.598789062389, 7391.03, 7421.08, 7440.214848632799, 7468.959924316399, 7496.0749621582, 7512.4174810791, 7508.88, 7475.02, 7470.16, 7498.03, 7502.22, 7496.0, 7476.0, 7472.01, 7480.0, 7412.19, 7374.86, 7382.33, 7418.51, 7411.91, 7443.999014052767, 7473.828257026384, 7493.557878513192, 7502.6, 7503.0, 7505.0, 7505.81, 7506.5], \"open\": [7395.99, 7388.78125, 7352.831875, 7297.3271875, 7282.43984375, 7294.414921875001, 7293.6574609375, 7299.39498046875, 7297.517490234375, 7287.321245117188, 7289.6456225585935, 7300.226561279296, 7316.442030639648, 7329.143515319824, 7320.301757659912, 7304.368378829956, 7294.417939414978, 7280.873969707489, 7279.9419848537445, 7297.378492426873, 7311.696746213436, 7319.944623106718, 7317.213561553359, 7313.556780776679, 7262.457140388339, 7206.576070194169, 7173.1005350970845, 7152.795267548542, 7151.36513377427, 7176.322566887135, 7293.931283443567, 7384.628141721783, 7426.469070860891, 7450.184535430446, 7380.199767715223, 7288.5148838576115, 7246.729941928806, 7230.6199709644025, 7249.299985482201, 7278.224992741101, 7306.12499637055, 7327.352498185275, 7362.954999092637, 7362.3524995463185, 7343.45749977316, 7352.97249988658, 7365.00999994329, 7379.434999971645, 7381.709999985823, 7386.084999992912, 7383.563749996456, 7378.0206249982275, 7378.080312499114, 7367.462656249558, 7360.805078124779, 7368.598789062389, 7411.181894531194, 7432.282197265597, 7440.214848632799, 7468.959924316399, 7496.0749621582, 7512.4174810791, 7535.4987405395495, 7536.388120269775, 7523.289060134888, 7515.288280067443, 7518.975390033722, 7519.405195016861, 7515.300097508431, 7511.688798754216, 7505.439399377108, 7499.550949688553, 7479.056724844277, 7445.622112422138, 7428.33355621107, 7430.340528105535, 7443.999014052767, 7473.828257026384, 7493.557878513192, 7512.618939256596, 7522.194469628298, 7522.689734814148, 7522.812367407074, 7523.284933703537], \"type\": \"candlestick\", \"x\": [\"2019-12-02T12:30:00\", \"2019-12-02T14:30:00\", \"2019-12-02T16:30:00\", \"2019-12-02T18:30:00\", \"2019-12-02T20:30:00\", \"2019-12-02T22:30:00\", \"2019-12-03T00:30:00\", \"2019-12-03T02:30:00\", \"2019-12-03T04:30:00\", \"2019-12-03T06:30:00\", \"2019-12-03T08:30:00\", \"2019-12-03T10:30:00\", \"2019-12-03T12:30:00\", \"2019-12-03T14:30:00\", \"2019-12-03T16:30:00\", \"2019-12-03T18:30:00\", \"2019-12-03T20:30:00\", \"2019-12-03T22:30:00\", \"2019-12-04T00:30:00\", \"2019-12-04T02:30:00\", \"2019-12-04T04:30:00\", \"2019-12-04T06:30:00\", \"2019-12-04T08:30:00\", \"2019-12-04T10:30:00\", \"2019-12-04T12:30:00\", \"2019-12-04T14:30:00\", \"2019-12-04T16:30:00\", \"2019-12-04T18:30:00\", \"2019-12-04T20:30:00\", \"2019-12-04T22:30:00\", \"2019-12-05T00:30:00\", \"2019-12-05T02:30:00\", \"2019-12-05T04:30:00\", \"2019-12-05T06:30:00\", \"2019-12-05T08:30:00\", \"2019-12-05T10:30:00\", \"2019-12-05T12:30:00\", \"2019-12-05T14:30:00\", \"2019-12-05T16:30:00\", \"2019-12-05T18:30:00\", \"2019-12-05T20:30:00\", \"2019-12-05T22:30:00\", \"2019-12-06T00:30:00\", \"2019-12-06T02:30:00\", \"2019-12-06T04:30:00\", \"2019-12-06T06:30:00\", \"2019-12-06T08:30:00\", \"2019-12-06T10:30:00\", \"2019-12-06T12:30:00\", \"2019-12-06T14:30:00\", \"2019-12-06T16:30:00\", \"2019-12-06T18:30:00\", \"2019-12-06T20:30:00\", \"2019-12-06T22:30:00\", \"2019-12-07T00:30:00\", \"2019-12-07T02:30:00\", \"2019-12-07T04:30:00\", \"2019-12-07T06:30:00\", \"2019-12-07T08:30:00\", \"2019-12-07T10:30:00\", \"2019-12-07T12:30:00\", \"2019-12-07T14:30:00\", \"2019-12-07T16:30:00\", \"2019-12-07T18:30:00\", \"2019-12-07T20:30:00\", \"2019-12-07T22:30:00\", \"2019-12-08T00:30:00\", \"2019-12-08T02:30:00\", \"2019-12-08T04:30:00\", \"2019-12-08T06:30:00\", \"2019-12-08T08:30:00\", \"2019-12-08T10:30:00\", \"2019-12-08T12:30:00\", \"2019-12-08T14:30:00\", \"2019-12-08T16:30:00\", \"2019-12-08T18:30:00\", \"2019-12-08T20:30:00\", \"2019-12-08T22:30:00\", \"2019-12-09T00:30:00\", \"2019-12-09T02:30:00\", \"2019-12-09T04:30:00\", \"2019-12-09T06:30:00\", \"2019-12-09T08:30:00\", \"2019-12-09T10:30:00\"]}],\n",
       "                        {\"template\": {\"data\": {\"bar\": [{\"error_x\": {\"color\": \"#2a3f5f\"}, \"error_y\": {\"color\": \"#2a3f5f\"}, \"marker\": {\"line\": {\"color\": \"#E5ECF6\", \"width\": 0.5}}, \"type\": \"bar\"}], \"barpolar\": [{\"marker\": {\"line\": {\"color\": \"#E5ECF6\", \"width\": 0.5}}, \"type\": \"barpolar\"}], \"carpet\": [{\"aaxis\": {\"endlinecolor\": \"#2a3f5f\", \"gridcolor\": \"white\", \"linecolor\": \"white\", \"minorgridcolor\": \"white\", \"startlinecolor\": \"#2a3f5f\"}, \"baxis\": {\"endlinecolor\": \"#2a3f5f\", \"gridcolor\": \"white\", \"linecolor\": \"white\", \"minorgridcolor\": \"white\", \"startlinecolor\": \"#2a3f5f\"}, \"type\": \"carpet\"}], \"choropleth\": [{\"colorbar\": {\"outlinewidth\": 0, \"ticks\": \"\"}, \"type\": \"choropleth\"}], \"contour\": [{\"colorbar\": {\"outlinewidth\": 0, \"ticks\": \"\"}, \"colorscale\": [[0.0, \"#0d0887\"], [0.1111111111111111, \"#46039f\"], [0.2222222222222222, \"#7201a8\"], [0.3333333333333333, \"#9c179e\"], [0.4444444444444444, \"#bd3786\"], [0.5555555555555556, \"#d8576b\"], [0.6666666666666666, \"#ed7953\"], [0.7777777777777778, \"#fb9f3a\"], [0.8888888888888888, \"#fdca26\"], [1.0, \"#f0f921\"]], \"type\": \"contour\"}], \"contourcarpet\": [{\"colorbar\": {\"outlinewidth\": 0, \"ticks\": \"\"}, \"type\": \"contourcarpet\"}], \"heatmap\": [{\"colorbar\": {\"outlinewidth\": 0, \"ticks\": \"\"}, \"colorscale\": [[0.0, \"#0d0887\"], [0.1111111111111111, \"#46039f\"], [0.2222222222222222, \"#7201a8\"], [0.3333333333333333, \"#9c179e\"], [0.4444444444444444, \"#bd3786\"], [0.5555555555555556, \"#d8576b\"], [0.6666666666666666, \"#ed7953\"], [0.7777777777777778, \"#fb9f3a\"], [0.8888888888888888, \"#fdca26\"], [1.0, \"#f0f921\"]], \"type\": \"heatmap\"}], \"heatmapgl\": [{\"colorbar\": {\"outlinewidth\": 0, \"ticks\": \"\"}, \"colorscale\": [[0.0, \"#0d0887\"], [0.1111111111111111, \"#46039f\"], [0.2222222222222222, \"#7201a8\"], [0.3333333333333333, \"#9c179e\"], [0.4444444444444444, \"#bd3786\"], [0.5555555555555556, \"#d8576b\"], [0.6666666666666666, \"#ed7953\"], [0.7777777777777778, \"#fb9f3a\"], [0.8888888888888888, \"#fdca26\"], [1.0, \"#f0f921\"]], \"type\": \"heatmapgl\"}], \"histogram\": [{\"marker\": {\"colorbar\": {\"outlinewidth\": 0, \"ticks\": \"\"}}, \"type\": \"histogram\"}], \"histogram2d\": [{\"colorbar\": {\"outlinewidth\": 0, \"ticks\": \"\"}, \"colorscale\": [[0.0, \"#0d0887\"], [0.1111111111111111, \"#46039f\"], [0.2222222222222222, \"#7201a8\"], [0.3333333333333333, \"#9c179e\"], [0.4444444444444444, \"#bd3786\"], [0.5555555555555556, \"#d8576b\"], [0.6666666666666666, \"#ed7953\"], [0.7777777777777778, \"#fb9f3a\"], [0.8888888888888888, \"#fdca26\"], [1.0, \"#f0f921\"]], \"type\": \"histogram2d\"}], \"histogram2dcontour\": [{\"colorbar\": {\"outlinewidth\": 0, \"ticks\": \"\"}, \"colorscale\": [[0.0, \"#0d0887\"], [0.1111111111111111, \"#46039f\"], [0.2222222222222222, \"#7201a8\"], [0.3333333333333333, \"#9c179e\"], [0.4444444444444444, \"#bd3786\"], [0.5555555555555556, \"#d8576b\"], [0.6666666666666666, \"#ed7953\"], [0.7777777777777778, \"#fb9f3a\"], [0.8888888888888888, \"#fdca26\"], [1.0, \"#f0f921\"]], \"type\": \"histogram2dcontour\"}], \"mesh3d\": [{\"colorbar\": {\"outlinewidth\": 0, \"ticks\": \"\"}, \"type\": \"mesh3d\"}], \"parcoords\": [{\"line\": {\"colorbar\": {\"outlinewidth\": 0, \"ticks\": \"\"}}, \"type\": \"parcoords\"}], \"scatter\": [{\"marker\": {\"colorbar\": {\"outlinewidth\": 0, \"ticks\": \"\"}}, \"type\": \"scatter\"}], \"scatter3d\": [{\"line\": {\"colorbar\": {\"outlinewidth\": 0, \"ticks\": \"\"}}, \"marker\": {\"colorbar\": {\"outlinewidth\": 0, \"ticks\": \"\"}}, \"type\": \"scatter3d\"}], \"scattercarpet\": [{\"marker\": {\"colorbar\": {\"outlinewidth\": 0, \"ticks\": \"\"}}, \"type\": \"scattercarpet\"}], \"scattergeo\": [{\"marker\": {\"colorbar\": {\"outlinewidth\": 0, \"ticks\": \"\"}}, \"type\": \"scattergeo\"}], \"scattergl\": [{\"marker\": {\"colorbar\": {\"outlinewidth\": 0, \"ticks\": \"\"}}, \"type\": \"scattergl\"}], \"scattermapbox\": [{\"marker\": {\"colorbar\": {\"outlinewidth\": 0, \"ticks\": \"\"}}, \"type\": \"scattermapbox\"}], \"scatterpolar\": [{\"marker\": {\"colorbar\": {\"outlinewidth\": 0, \"ticks\": \"\"}}, \"type\": \"scatterpolar\"}], \"scatterpolargl\": [{\"marker\": {\"colorbar\": {\"outlinewidth\": 0, \"ticks\": \"\"}}, \"type\": \"scatterpolargl\"}], \"scatterternary\": [{\"marker\": {\"colorbar\": {\"outlinewidth\": 0, \"ticks\": \"\"}}, \"type\": \"scatterternary\"}], \"surface\": [{\"colorbar\": {\"outlinewidth\": 0, \"ticks\": \"\"}, \"colorscale\": [[0.0, \"#0d0887\"], [0.1111111111111111, \"#46039f\"], [0.2222222222222222, \"#7201a8\"], [0.3333333333333333, \"#9c179e\"], [0.4444444444444444, \"#bd3786\"], [0.5555555555555556, \"#d8576b\"], [0.6666666666666666, \"#ed7953\"], [0.7777777777777778, \"#fb9f3a\"], [0.8888888888888888, \"#fdca26\"], [1.0, \"#f0f921\"]], \"type\": \"surface\"}], \"table\": [{\"cells\": {\"fill\": {\"color\": \"#EBF0F8\"}, \"line\": {\"color\": \"white\"}}, \"header\": {\"fill\": {\"color\": \"#C8D4E3\"}, \"line\": {\"color\": \"white\"}}, \"type\": \"table\"}]}, \"layout\": {\"annotationdefaults\": {\"arrowcolor\": \"#2a3f5f\", \"arrowhead\": 0, \"arrowwidth\": 1}, \"colorscale\": {\"diverging\": [[0, \"#8e0152\"], [0.1, \"#c51b7d\"], [0.2, \"#de77ae\"], [0.3, \"#f1b6da\"], [0.4, \"#fde0ef\"], [0.5, \"#f7f7f7\"], [0.6, \"#e6f5d0\"], [0.7, \"#b8e186\"], [0.8, \"#7fbc41\"], [0.9, \"#4d9221\"], [1, \"#276419\"]], \"sequential\": [[0.0, \"#0d0887\"], [0.1111111111111111, \"#46039f\"], [0.2222222222222222, \"#7201a8\"], [0.3333333333333333, \"#9c179e\"], [0.4444444444444444, \"#bd3786\"], [0.5555555555555556, \"#d8576b\"], [0.6666666666666666, \"#ed7953\"], [0.7777777777777778, \"#fb9f3a\"], [0.8888888888888888, \"#fdca26\"], [1.0, \"#f0f921\"]], \"sequentialminus\": [[0.0, \"#0d0887\"], [0.1111111111111111, \"#46039f\"], [0.2222222222222222, \"#7201a8\"], [0.3333333333333333, \"#9c179e\"], [0.4444444444444444, \"#bd3786\"], [0.5555555555555556, \"#d8576b\"], [0.6666666666666666, \"#ed7953\"], [0.7777777777777778, \"#fb9f3a\"], [0.8888888888888888, \"#fdca26\"], [1.0, \"#f0f921\"]]}, \"colorway\": [\"#636efa\", \"#EF553B\", \"#00cc96\", \"#ab63fa\", \"#FFA15A\", \"#19d3f3\", \"#FF6692\", \"#B6E880\", \"#FF97FF\", \"#FECB52\"], \"font\": {\"color\": \"#2a3f5f\"}, \"geo\": {\"bgcolor\": \"white\", \"lakecolor\": \"white\", \"landcolor\": \"#E5ECF6\", \"showlakes\": true, \"showland\": true, \"subunitcolor\": \"white\"}, \"hoverlabel\": {\"align\": \"left\"}, \"hovermode\": \"closest\", \"mapbox\": {\"style\": \"light\"}, \"paper_bgcolor\": \"white\", \"plot_bgcolor\": \"#E5ECF6\", \"polar\": {\"angularaxis\": {\"gridcolor\": \"white\", \"linecolor\": \"white\", \"ticks\": \"\"}, \"bgcolor\": \"#E5ECF6\", \"radialaxis\": {\"gridcolor\": \"white\", \"linecolor\": \"white\", \"ticks\": \"\"}}, \"scene\": {\"xaxis\": {\"backgroundcolor\": \"#E5ECF6\", \"gridcolor\": \"white\", \"gridwidth\": 2, \"linecolor\": \"white\", \"showbackground\": true, \"ticks\": \"\", \"zerolinecolor\": \"white\"}, \"yaxis\": {\"backgroundcolor\": \"#E5ECF6\", \"gridcolor\": \"white\", \"gridwidth\": 2, \"linecolor\": \"white\", \"showbackground\": true, \"ticks\": \"\", \"zerolinecolor\": \"white\"}, \"zaxis\": {\"backgroundcolor\": \"#E5ECF6\", \"gridcolor\": \"white\", \"gridwidth\": 2, \"linecolor\": \"white\", \"showbackground\": true, \"ticks\": \"\", \"zerolinecolor\": \"white\"}}, \"shapedefaults\": {\"line\": {\"color\": \"#2a3f5f\"}}, \"ternary\": {\"aaxis\": {\"gridcolor\": \"white\", \"linecolor\": \"white\", \"ticks\": \"\"}, \"baxis\": {\"gridcolor\": \"white\", \"linecolor\": \"white\", \"ticks\": \"\"}, \"bgcolor\": \"#E5ECF6\", \"caxis\": {\"gridcolor\": \"white\", \"linecolor\": \"white\", \"ticks\": \"\"}}, \"title\": {\"x\": 0.05}, \"xaxis\": {\"automargin\": true, \"gridcolor\": \"white\", \"linecolor\": \"white\", \"ticks\": \"\", \"zerolinecolor\": \"white\", \"zerolinewidth\": 2}, \"yaxis\": {\"automargin\": true, \"gridcolor\": \"white\", \"linecolor\": \"white\", \"ticks\": \"\", \"zerolinecolor\": \"white\", \"zerolinewidth\": 2}}}},\n",
       "                        {\"responsive\": true}\n",
       "                    ).then(function(){\n",
       "                            \n",
       "var gd = document.getElementById('7d054034-1f37-476e-8a5f-38f353faa63f');\n",
       "var x = new MutationObserver(function (mutations, observer) {{\n",
       "        var display = window.getComputedStyle(gd).display;\n",
       "        if (!display || display === 'none') {{\n",
       "            console.log([gd, 'removed!']);\n",
       "            Plotly.purge(gd);\n",
       "            observer.disconnect();\n",
       "        }}\n",
       "}});\n",
       "\n",
       "// Listen for the removal of the full notebook cells\n",
       "var notebookContainer = gd.closest('#notebook-container');\n",
       "if (notebookContainer) {{\n",
       "    x.observe(notebookContainer, {childList: true});\n",
       "}}\n",
       "\n",
       "// Listen for the clearing of the current output cell\n",
       "var outputEl = gd.closest('.output');\n",
       "if (outputEl) {{\n",
       "    x.observe(outputEl, {childList: true});\n",
       "}}\n",
       "\n",
       "                        })\n",
       "                };\n",
       "                });\n",
       "            </script>\n",
       "        </div>"
      ]
     },
     "metadata": {},
     "output_type": "display_data"
    },
    {
     "data": {
      "text/html": [
       "<div>\n",
       "<style scoped>\n",
       "    .dataframe tbody tr th:only-of-type {\n",
       "        vertical-align: middle;\n",
       "    }\n",
       "\n",
       "    .dataframe tbody tr th {\n",
       "        vertical-align: top;\n",
       "    }\n",
       "\n",
       "    .dataframe thead th {\n",
       "        text-align: right;\n",
       "    }\n",
       "</style>\n",
       "<table border=\"1\" class=\"dataframe\">\n",
       "  <thead>\n",
       "    <tr style=\"text-align: right;\">\n",
       "      <th></th>\n",
       "      <th>datetime</th>\n",
       "      <th>index</th>\n",
       "      <th>money</th>\n",
       "      <th>bitcoin</th>\n",
       "      <th>total</th>\n",
       "      <th>indicator</th>\n",
       "      <th>close</th>\n",
       "    </tr>\n",
       "  </thead>\n",
       "  <tbody>\n",
       "    <tr>\n",
       "      <th>0</th>\n",
       "      <td>2019-12-02 12:30:00</td>\n",
       "      <td>1</td>\n",
       "      <td>0.00000000</td>\n",
       "      <td>0.10000000</td>\n",
       "      <td>735.88400000</td>\n",
       "      <td>0</td>\n",
       "      <td>7358.84000000</td>\n",
       "    </tr>\n",
       "    <tr>\n",
       "      <th>1</th>\n",
       "      <td>2019-12-02 14:30:00</td>\n",
       "      <td>2</td>\n",
       "      <td>0.00000000</td>\n",
       "      <td>0.10000000</td>\n",
       "      <td>728.10200000</td>\n",
       "      <td>0</td>\n",
       "      <td>7281.02000000</td>\n",
       "    </tr>\n",
       "    <tr>\n",
       "      <th>2</th>\n",
       "      <td>2019-12-02 16:30:00</td>\n",
       "      <td>3</td>\n",
       "      <td>0.00000000</td>\n",
       "      <td>0.10000000</td>\n",
       "      <td>725.29600000</td>\n",
       "      <td>0</td>\n",
       "      <td>7252.96000000</td>\n",
       "    </tr>\n",
       "    <tr>\n",
       "      <th>3</th>\n",
       "      <td>2019-12-02 18:30:00</td>\n",
       "      <td>4</td>\n",
       "      <td>0.00000000</td>\n",
       "      <td>0.10000000</td>\n",
       "      <td>729.82400000</td>\n",
       "      <td>0</td>\n",
       "      <td>7298.24000000</td>\n",
       "    </tr>\n",
       "    <tr>\n",
       "      <th>4</th>\n",
       "      <td>2019-12-02 20:30:00</td>\n",
       "      <td>5</td>\n",
       "      <td>0.00000000</td>\n",
       "      <td>0.10000000</td>\n",
       "      <td>729.79100000</td>\n",
       "      <td>1</td>\n",
       "      <td>7297.91000000</td>\n",
       "    </tr>\n",
       "    <tr>\n",
       "      <th>5</th>\n",
       "      <td>2019-12-02 22:30:00</td>\n",
       "      <td>6</td>\n",
       "      <td>0.00000000</td>\n",
       "      <td>0.10000000</td>\n",
       "      <td>730.71300000</td>\n",
       "      <td>0</td>\n",
       "      <td>7307.13000000</td>\n",
       "    </tr>\n",
       "    <tr>\n",
       "      <th>6</th>\n",
       "      <td>2019-12-03 00:30:00</td>\n",
       "      <td>7</td>\n",
       "      <td>0.00000000</td>\n",
       "      <td>0.10000000</td>\n",
       "      <td>730.87600000</td>\n",
       "      <td>0</td>\n",
       "      <td>7308.76000000</td>\n",
       "    </tr>\n",
       "    <tr>\n",
       "      <th>7</th>\n",
       "      <td>2019-12-03 02:30:00</td>\n",
       "      <td>8</td>\n",
       "      <td>0.00000000</td>\n",
       "      <td>0.10000000</td>\n",
       "      <td>728.59900000</td>\n",
       "      <td>0</td>\n",
       "      <td>7285.99000000</td>\n",
       "    </tr>\n",
       "    <tr>\n",
       "      <th>8</th>\n",
       "      <td>2019-12-03 04:30:00</td>\n",
       "      <td>9</td>\n",
       "      <td>727.39800000</td>\n",
       "      <td>0.00000000</td>\n",
       "      <td>727.39800000</td>\n",
       "      <td>2</td>\n",
       "      <td>7273.98000000</td>\n",
       "    </tr>\n",
       "    <tr>\n",
       "      <th>9</th>\n",
       "      <td>2019-12-03 06:30:00</td>\n",
       "      <td>10</td>\n",
       "      <td>0.00005585</td>\n",
       "      <td>0.09959853</td>\n",
       "      <td>727.39800000</td>\n",
       "      <td>1</td>\n",
       "      <td>7303.30000000</td>\n",
       "    </tr>\n",
       "    <tr>\n",
       "      <th>10</th>\n",
       "      <td>2019-12-03 08:30:00</td>\n",
       "      <td>11</td>\n",
       "      <td>0.00005585</td>\n",
       "      <td>0.09959853</td>\n",
       "      <td>726.49962126</td>\n",
       "      <td>0</td>\n",
       "      <td>7294.28000000</td>\n",
       "    </tr>\n",
       "    <tr>\n",
       "      <th>11</th>\n",
       "      <td>2019-12-03 10:30:00</td>\n",
       "      <td>12</td>\n",
       "      <td>0.00005585</td>\n",
       "      <td>0.09959853</td>\n",
       "      <td>731.47257586</td>\n",
       "      <td>0</td>\n",
       "      <td>7344.21000000</td>\n",
       "    </tr>\n",
       "    <tr>\n",
       "      <th>12</th>\n",
       "      <td>2019-12-03 12:30:00</td>\n",
       "      <td>13</td>\n",
       "      <td>0.00005585</td>\n",
       "      <td>0.09959853</td>\n",
       "      <td>731.96758056</td>\n",
       "      <td>0</td>\n",
       "      <td>7349.18000000</td>\n",
       "    </tr>\n",
       "    <tr>\n",
       "      <th>13</th>\n",
       "      <td>2019-12-03 14:30:00</td>\n",
       "      <td>14</td>\n",
       "      <td>0.00005585</td>\n",
       "      <td>0.09959853</td>\n",
       "      <td>724.73573129</td>\n",
       "      <td>0</td>\n",
       "      <td>7276.57000000</td>\n",
       "    </tr>\n",
       "    <tr>\n",
       "      <th>14</th>\n",
       "      <td>2019-12-03 16:30:00</td>\n",
       "      <td>15</td>\n",
       "      <td>0.00005585</td>\n",
       "      <td>0.09959853</td>\n",
       "      <td>726.45480192</td>\n",
       "      <td>0</td>\n",
       "      <td>7293.83000000</td>\n",
       "    </tr>\n",
       "    <tr>\n",
       "      <th>15</th>\n",
       "      <td>2019-12-03 18:30:00</td>\n",
       "      <td>16</td>\n",
       "      <td>723.30848436</td>\n",
       "      <td>0.00000000</td>\n",
       "      <td>723.30848436</td>\n",
       "      <td>2</td>\n",
       "      <td>7262.24000000</td>\n",
       "    </tr>\n",
       "    <tr>\n",
       "      <th>16</th>\n",
       "      <td>2019-12-03 20:30:00</td>\n",
       "      <td>17</td>\n",
       "      <td>723.30848436</td>\n",
       "      <td>0.00000000</td>\n",
       "      <td>723.30848436</td>\n",
       "      <td>0</td>\n",
       "      <td>7266.70000000</td>\n",
       "    </tr>\n",
       "    <tr>\n",
       "      <th>17</th>\n",
       "      <td>2019-12-03 22:30:00</td>\n",
       "      <td>18</td>\n",
       "      <td>723.30848436</td>\n",
       "      <td>0.00000000</td>\n",
       "      <td>723.30848436</td>\n",
       "      <td>0</td>\n",
       "      <td>7289.16000000</td>\n",
       "    </tr>\n",
       "    <tr>\n",
       "      <th>18</th>\n",
       "      <td>2019-12-04 00:30:00</td>\n",
       "      <td>19</td>\n",
       "      <td>0.00002300</td>\n",
       "      <td>0.09860478</td>\n",
       "      <td>723.30848436</td>\n",
       "      <td>1</td>\n",
       "      <td>7335.43000000</td>\n",
       "    </tr>\n",
       "    <tr>\n",
       "      <th>19</th>\n",
       "      <td>2019-12-04 02:30:00</td>\n",
       "      <td>20</td>\n",
       "      <td>0.00002300</td>\n",
       "      <td>0.09860478</td>\n",
       "      <td>722.51668797</td>\n",
       "      <td>0</td>\n",
       "      <td>7327.40000000</td>\n",
       "    </tr>\n",
       "    <tr>\n",
       "      <th>20</th>\n",
       "      <td>2019-12-04 04:30:00</td>\n",
       "      <td>21</td>\n",
       "      <td>0.00002300</td>\n",
       "      <td>0.09860478</td>\n",
       "      <td>721.88364529</td>\n",
       "      <td>0</td>\n",
       "      <td>7320.98000000</td>\n",
       "    </tr>\n",
       "    <tr>\n",
       "      <th>21</th>\n",
       "      <td>2019-12-04 06:30:00</td>\n",
       "      <td>22</td>\n",
       "      <td>0.00002300</td>\n",
       "      <td>0.09860478</td>\n",
       "      <td>721.97731983</td>\n",
       "      <td>0</td>\n",
       "      <td>7321.93000000</td>\n",
       "    </tr>\n",
       "    <tr>\n",
       "      <th>22</th>\n",
       "      <td>2019-12-04 08:30:00</td>\n",
       "      <td>23</td>\n",
       "      <td>0.00002300</td>\n",
       "      <td>0.09860478</td>\n",
       "      <td>719.09608816</td>\n",
       "      <td>0</td>\n",
       "      <td>7292.71000000</td>\n",
       "    </tr>\n",
       "    <tr>\n",
       "      <th>23</th>\n",
       "      <td>2019-12-04 10:30:00</td>\n",
       "      <td>24</td>\n",
       "      <td>705.68386598</td>\n",
       "      <td>0.00000000</td>\n",
       "      <td>705.68386598</td>\n",
       "      <td>2</td>\n",
       "      <td>7156.69000000</td>\n",
       "    </tr>\n",
       "    <tr>\n",
       "      <th>24</th>\n",
       "      <td>2019-12-04 12:30:00</td>\n",
       "      <td>25</td>\n",
       "      <td>705.68386598</td>\n",
       "      <td>0.00000000</td>\n",
       "      <td>705.68386598</td>\n",
       "      <td>0</td>\n",
       "      <td>7150.49000000</td>\n",
       "    </tr>\n",
       "    <tr>\n",
       "      <th>25</th>\n",
       "      <td>2019-12-04 14:30:00</td>\n",
       "      <td>26</td>\n",
       "      <td>705.68386598</td>\n",
       "      <td>0.00000000</td>\n",
       "      <td>705.68386598</td>\n",
       "      <td>0</td>\n",
       "      <td>7127.80000000</td>\n",
       "    </tr>\n",
       "    <tr>\n",
       "      <th>26</th>\n",
       "      <td>2019-12-04 16:30:00</td>\n",
       "      <td>27</td>\n",
       "      <td>705.68386598</td>\n",
       "      <td>0.00000000</td>\n",
       "      <td>705.68386598</td>\n",
       "      <td>0</td>\n",
       "      <td>7130.60000000</td>\n",
       "    </tr>\n",
       "    <tr>\n",
       "      <th>27</th>\n",
       "      <td>2019-12-04 18:30:00</td>\n",
       "      <td>28</td>\n",
       "      <td>705.68386598</td>\n",
       "      <td>0.00000000</td>\n",
       "      <td>705.68386598</td>\n",
       "      <td>0</td>\n",
       "      <td>7192.01000000</td>\n",
       "    </tr>\n",
       "    <tr>\n",
       "      <th>28</th>\n",
       "      <td>2019-12-04 20:30:00</td>\n",
       "      <td>29</td>\n",
       "      <td>705.68386598</td>\n",
       "      <td>0.00000000</td>\n",
       "      <td>705.68386598</td>\n",
       "      <td>0</td>\n",
       "      <td>7200.34000000</td>\n",
       "    </tr>\n",
       "    <tr>\n",
       "      <th>29</th>\n",
       "      <td>2019-12-04 22:30:00</td>\n",
       "      <td>30</td>\n",
       "      <td>0.00002793</td>\n",
       "      <td>0.09411841</td>\n",
       "      <td>705.68386598</td>\n",
       "      <td>1</td>\n",
       "      <td>7497.83000000</td>\n",
       "    </tr>\n",
       "    <tr>\n",
       "      <th>...</th>\n",
       "      <td>...</td>\n",
       "      <td>...</td>\n",
       "      <td>...</td>\n",
       "      <td>...</td>\n",
       "      <td>...</td>\n",
       "      <td>...</td>\n",
       "      <td>...</td>\n",
       "    </tr>\n",
       "    <tr>\n",
       "      <th>54</th>\n",
       "      <td>2019-12-07 00:30:00</td>\n",
       "      <td>55</td>\n",
       "      <td>682.33314922</td>\n",
       "      <td>0.00000000</td>\n",
       "      <td>682.33314922</td>\n",
       "      <td>0</td>\n",
       "      <td>7375.10000000</td>\n",
       "    </tr>\n",
       "    <tr>\n",
       "      <th>55</th>\n",
       "      <td>2019-12-07 02:30:00</td>\n",
       "      <td>56</td>\n",
       "      <td>0.00007402</td>\n",
       "      <td>0.09125760</td>\n",
       "      <td>682.33314922</td>\n",
       "      <td>1</td>\n",
       "      <td>7477.00000000</td>\n",
       "    </tr>\n",
       "    <tr>\n",
       "      <th>56</th>\n",
       "      <td>2019-12-07 04:30:00</td>\n",
       "      <td>57</td>\n",
       "      <td>0.00007402</td>\n",
       "      <td>0.09125760</td>\n",
       "      <td>678.32602801</td>\n",
       "      <td>0</td>\n",
       "      <td>7433.09000000</td>\n",
       "    </tr>\n",
       "    <tr>\n",
       "      <th>57</th>\n",
       "      <td>2019-12-07 06:30:00</td>\n",
       "      <td>58</td>\n",
       "      <td>0.00007402</td>\n",
       "      <td>0.09125760</td>\n",
       "      <td>680.49157085</td>\n",
       "      <td>0</td>\n",
       "      <td>7456.82000000</td>\n",
       "    </tr>\n",
       "    <tr>\n",
       "      <th>58</th>\n",
       "      <td>2019-12-07 08:30:00</td>\n",
       "      <td>59</td>\n",
       "      <td>0.00007402</td>\n",
       "      <td>0.09125760</td>\n",
       "      <td>686.93892029</td>\n",
       "      <td>0</td>\n",
       "      <td>7527.47000000</td>\n",
       "    </tr>\n",
       "    <tr>\n",
       "      <th>59</th>\n",
       "      <td>2019-12-07 10:30:00</td>\n",
       "      <td>60</td>\n",
       "      <td>0.00007402</td>\n",
       "      <td>0.09125760</td>\n",
       "      <td>685.37476503</td>\n",
       "      <td>0</td>\n",
       "      <td>7510.33000000</td>\n",
       "    </tr>\n",
       "    <tr>\n",
       "      <th>60</th>\n",
       "      <td>2019-12-07 12:30:00</td>\n",
       "      <td>61</td>\n",
       "      <td>0.00007402</td>\n",
       "      <td>0.09125760</td>\n",
       "      <td>687.14607505</td>\n",
       "      <td>0</td>\n",
       "      <td>7529.74000000</td>\n",
       "    </tr>\n",
       "    <tr>\n",
       "      <th>61</th>\n",
       "      <td>2019-12-07 14:30:00</td>\n",
       "      <td>62</td>\n",
       "      <td>0.00007402</td>\n",
       "      <td>0.09125760</td>\n",
       "      <td>689.81718500</td>\n",
       "      <td>0</td>\n",
       "      <td>7559.01000000</td>\n",
       "    </tr>\n",
       "    <tr>\n",
       "      <th>62</th>\n",
       "      <td>2019-12-07 16:30:00</td>\n",
       "      <td>63</td>\n",
       "      <td>0.00007402</td>\n",
       "      <td>0.09125760</td>\n",
       "      <td>686.39228727</td>\n",
       "      <td>0</td>\n",
       "      <td>7521.48000000</td>\n",
       "    </tr>\n",
       "    <tr>\n",
       "      <th>63</th>\n",
       "      <td>2019-12-07 18:30:00</td>\n",
       "      <td>64</td>\n",
       "      <td>0.00007402</td>\n",
       "      <td>0.09125760</td>\n",
       "      <td>683.94567101</td>\n",
       "      <td>0</td>\n",
       "      <td>7494.67000000</td>\n",
       "    </tr>\n",
       "    <tr>\n",
       "      <th>64</th>\n",
       "      <td>2019-12-07 20:30:00</td>\n",
       "      <td>65</td>\n",
       "      <td>0.00007402</td>\n",
       "      <td>0.09125760</td>\n",
       "      <td>686.71168887</td>\n",
       "      <td>0</td>\n",
       "      <td>7524.98000000</td>\n",
       "    </tr>\n",
       "    <tr>\n",
       "      <th>65</th>\n",
       "      <td>2019-12-07 22:30:00</td>\n",
       "      <td>66</td>\n",
       "      <td>0.00007402</td>\n",
       "      <td>0.09125760</td>\n",
       "      <td>685.99622929</td>\n",
       "      <td>0</td>\n",
       "      <td>7517.14000000</td>\n",
       "    </tr>\n",
       "    <tr>\n",
       "      <th>66</th>\n",
       "      <td>2019-12-08 00:30:00</td>\n",
       "      <td>67</td>\n",
       "      <td>0.00007402</td>\n",
       "      <td>0.09125760</td>\n",
       "      <td>685.35103805</td>\n",
       "      <td>0</td>\n",
       "      <td>7510.07000000</td>\n",
       "    </tr>\n",
       "    <tr>\n",
       "      <th>67</th>\n",
       "      <td>2019-12-08 02:30:00</td>\n",
       "      <td>68</td>\n",
       "      <td>685.23331575</td>\n",
       "      <td>0.00000000</td>\n",
       "      <td>685.23331575</td>\n",
       "      <td>2</td>\n",
       "      <td>7508.78000000</td>\n",
       "    </tr>\n",
       "    <tr>\n",
       "      <th>68</th>\n",
       "      <td>2019-12-08 04:30:00</td>\n",
       "      <td>69</td>\n",
       "      <td>685.23331575</td>\n",
       "      <td>0.00000000</td>\n",
       "      <td>685.23331575</td>\n",
       "      <td>0</td>\n",
       "      <td>7520.00000000</td>\n",
       "    </tr>\n",
       "    <tr>\n",
       "      <th>69</th>\n",
       "      <td>2019-12-08 06:30:00</td>\n",
       "      <td>70</td>\n",
       "      <td>685.23331575</td>\n",
       "      <td>0.00000000</td>\n",
       "      <td>685.23331575</td>\n",
       "      <td>0</td>\n",
       "      <td>7484.29000000</td>\n",
       "    </tr>\n",
       "    <tr>\n",
       "      <th>70</th>\n",
       "      <td>2019-12-08 08:30:00</td>\n",
       "      <td>71</td>\n",
       "      <td>685.23331575</td>\n",
       "      <td>0.00000000</td>\n",
       "      <td>685.23331575</td>\n",
       "      <td>0</td>\n",
       "      <td>7488.21000000</td>\n",
       "    </tr>\n",
       "    <tr>\n",
       "      <th>71</th>\n",
       "      <td>2019-12-08 10:30:00</td>\n",
       "      <td>72</td>\n",
       "      <td>685.23331575</td>\n",
       "      <td>0.00000000</td>\n",
       "      <td>685.23331575</td>\n",
       "      <td>0</td>\n",
       "      <td>7435.00000000</td>\n",
       "    </tr>\n",
       "    <tr>\n",
       "      <th>72</th>\n",
       "      <td>2019-12-08 12:30:00</td>\n",
       "      <td>73</td>\n",
       "      <td>685.23331575</td>\n",
       "      <td>0.00000000</td>\n",
       "      <td>685.23331575</td>\n",
       "      <td>0</td>\n",
       "      <td>7403.91000000</td>\n",
       "    </tr>\n",
       "    <tr>\n",
       "      <th>73</th>\n",
       "      <td>2019-12-08 14:30:00</td>\n",
       "      <td>74</td>\n",
       "      <td>685.23331575</td>\n",
       "      <td>0.00000000</td>\n",
       "      <td>685.23331575</td>\n",
       "      <td>0</td>\n",
       "      <td>7421.96000000</td>\n",
       "    </tr>\n",
       "    <tr>\n",
       "      <th>74</th>\n",
       "      <td>2019-12-08 16:30:00</td>\n",
       "      <td>75</td>\n",
       "      <td>685.23331575</td>\n",
       "      <td>0.00000000</td>\n",
       "      <td>685.23331575</td>\n",
       "      <td>0</td>\n",
       "      <td>7434.63000000</td>\n",
       "    </tr>\n",
       "    <tr>\n",
       "      <th>75</th>\n",
       "      <td>2019-12-08 18:30:00</td>\n",
       "      <td>76</td>\n",
       "      <td>685.23331575</td>\n",
       "      <td>0.00000000</td>\n",
       "      <td>685.23331575</td>\n",
       "      <td>0</td>\n",
       "      <td>7486.21000000</td>\n",
       "    </tr>\n",
       "    <tr>\n",
       "      <th>76</th>\n",
       "      <td>2019-12-08 20:30:00</td>\n",
       "      <td>77</td>\n",
       "      <td>685.23331575</td>\n",
       "      <td>0.00000000</td>\n",
       "      <td>685.23331575</td>\n",
       "      <td>0</td>\n",
       "      <td>7520.03000000</td>\n",
       "    </tr>\n",
       "    <tr>\n",
       "      <th>77</th>\n",
       "      <td>2019-12-08 22:30:00</td>\n",
       "      <td>78</td>\n",
       "      <td>685.23331575</td>\n",
       "      <td>0.00000000</td>\n",
       "      <td>685.23331575</td>\n",
       "      <td>0</td>\n",
       "      <td>7513.67000000</td>\n",
       "    </tr>\n",
       "    <tr>\n",
       "      <th>78</th>\n",
       "      <td>2019-12-09 00:30:00</td>\n",
       "      <td>79</td>\n",
       "      <td>0.00007167</td>\n",
       "      <td>0.09080748</td>\n",
       "      <td>685.23331575</td>\n",
       "      <td>1</td>\n",
       "      <td>7546.00000000</td>\n",
       "    </tr>\n",
       "    <tr>\n",
       "      <th>79</th>\n",
       "      <td>2019-12-09 02:30:00</td>\n",
       "      <td>80</td>\n",
       "      <td>0.00007167</td>\n",
       "      <td>0.09080748</td>\n",
       "      <td>683.39083198</td>\n",
       "      <td>0</td>\n",
       "      <td>7525.71000000</td>\n",
       "    </tr>\n",
       "    <tr>\n",
       "      <th>80</th>\n",
       "      <td>2019-12-09 04:30:00</td>\n",
       "      <td>81</td>\n",
       "      <td>0.00007167</td>\n",
       "      <td>0.09080748</td>\n",
       "      <td>682.50818328</td>\n",
       "      <td>0</td>\n",
       "      <td>7515.99000000</td>\n",
       "    </tr>\n",
       "    <tr>\n",
       "      <th>81</th>\n",
       "      <td>2019-12-09 06:30:00</td>\n",
       "      <td>82</td>\n",
       "      <td>0.00007167</td>\n",
       "      <td>0.09080748</td>\n",
       "      <td>683.63782833</td>\n",
       "      <td>0</td>\n",
       "      <td>7528.43000000</td>\n",
       "    </tr>\n",
       "    <tr>\n",
       "      <th>82</th>\n",
       "      <td>2019-12-09 08:30:00</td>\n",
       "      <td>83</td>\n",
       "      <td>0.00007167</td>\n",
       "      <td>0.09080748</td>\n",
       "      <td>681.97423529</td>\n",
       "      <td>0</td>\n",
       "      <td>7510.11000000</td>\n",
       "    </tr>\n",
       "    <tr>\n",
       "      <th>83</th>\n",
       "      <td>2019-12-09 10:30:00</td>\n",
       "      <td>84</td>\n",
       "      <td>682.61261188</td>\n",
       "      <td>0.00000000</td>\n",
       "      <td>682.61261188</td>\n",
       "      <td>2</td>\n",
       "      <td>7517.14000000</td>\n",
       "    </tr>\n",
       "  </tbody>\n",
       "</table>\n",
       "<p>84 rows × 7 columns</p>\n",
       "</div>"
      ],
      "text/plain": [
       "              datetime  index        money    bitcoin        total  indicator  \\\n",
       "0  2019-12-02 12:30:00      1   0.00000000 0.10000000 735.88400000          0   \n",
       "1  2019-12-02 14:30:00      2   0.00000000 0.10000000 728.10200000          0   \n",
       "2  2019-12-02 16:30:00      3   0.00000000 0.10000000 725.29600000          0   \n",
       "3  2019-12-02 18:30:00      4   0.00000000 0.10000000 729.82400000          0   \n",
       "4  2019-12-02 20:30:00      5   0.00000000 0.10000000 729.79100000          1   \n",
       "5  2019-12-02 22:30:00      6   0.00000000 0.10000000 730.71300000          0   \n",
       "6  2019-12-03 00:30:00      7   0.00000000 0.10000000 730.87600000          0   \n",
       "7  2019-12-03 02:30:00      8   0.00000000 0.10000000 728.59900000          0   \n",
       "8  2019-12-03 04:30:00      9 727.39800000 0.00000000 727.39800000          2   \n",
       "9  2019-12-03 06:30:00     10   0.00005585 0.09959853 727.39800000          1   \n",
       "10 2019-12-03 08:30:00     11   0.00005585 0.09959853 726.49962126          0   \n",
       "11 2019-12-03 10:30:00     12   0.00005585 0.09959853 731.47257586          0   \n",
       "12 2019-12-03 12:30:00     13   0.00005585 0.09959853 731.96758056          0   \n",
       "13 2019-12-03 14:30:00     14   0.00005585 0.09959853 724.73573129          0   \n",
       "14 2019-12-03 16:30:00     15   0.00005585 0.09959853 726.45480192          0   \n",
       "15 2019-12-03 18:30:00     16 723.30848436 0.00000000 723.30848436          2   \n",
       "16 2019-12-03 20:30:00     17 723.30848436 0.00000000 723.30848436          0   \n",
       "17 2019-12-03 22:30:00     18 723.30848436 0.00000000 723.30848436          0   \n",
       "18 2019-12-04 00:30:00     19   0.00002300 0.09860478 723.30848436          1   \n",
       "19 2019-12-04 02:30:00     20   0.00002300 0.09860478 722.51668797          0   \n",
       "20 2019-12-04 04:30:00     21   0.00002300 0.09860478 721.88364529          0   \n",
       "21 2019-12-04 06:30:00     22   0.00002300 0.09860478 721.97731983          0   \n",
       "22 2019-12-04 08:30:00     23   0.00002300 0.09860478 719.09608816          0   \n",
       "23 2019-12-04 10:30:00     24 705.68386598 0.00000000 705.68386598          2   \n",
       "24 2019-12-04 12:30:00     25 705.68386598 0.00000000 705.68386598          0   \n",
       "25 2019-12-04 14:30:00     26 705.68386598 0.00000000 705.68386598          0   \n",
       "26 2019-12-04 16:30:00     27 705.68386598 0.00000000 705.68386598          0   \n",
       "27 2019-12-04 18:30:00     28 705.68386598 0.00000000 705.68386598          0   \n",
       "28 2019-12-04 20:30:00     29 705.68386598 0.00000000 705.68386598          0   \n",
       "29 2019-12-04 22:30:00     30   0.00002793 0.09411841 705.68386598          1   \n",
       "..                 ...    ...          ...        ...          ...        ...   \n",
       "54 2019-12-07 00:30:00     55 682.33314922 0.00000000 682.33314922          0   \n",
       "55 2019-12-07 02:30:00     56   0.00007402 0.09125760 682.33314922          1   \n",
       "56 2019-12-07 04:30:00     57   0.00007402 0.09125760 678.32602801          0   \n",
       "57 2019-12-07 06:30:00     58   0.00007402 0.09125760 680.49157085          0   \n",
       "58 2019-12-07 08:30:00     59   0.00007402 0.09125760 686.93892029          0   \n",
       "59 2019-12-07 10:30:00     60   0.00007402 0.09125760 685.37476503          0   \n",
       "60 2019-12-07 12:30:00     61   0.00007402 0.09125760 687.14607505          0   \n",
       "61 2019-12-07 14:30:00     62   0.00007402 0.09125760 689.81718500          0   \n",
       "62 2019-12-07 16:30:00     63   0.00007402 0.09125760 686.39228727          0   \n",
       "63 2019-12-07 18:30:00     64   0.00007402 0.09125760 683.94567101          0   \n",
       "64 2019-12-07 20:30:00     65   0.00007402 0.09125760 686.71168887          0   \n",
       "65 2019-12-07 22:30:00     66   0.00007402 0.09125760 685.99622929          0   \n",
       "66 2019-12-08 00:30:00     67   0.00007402 0.09125760 685.35103805          0   \n",
       "67 2019-12-08 02:30:00     68 685.23331575 0.00000000 685.23331575          2   \n",
       "68 2019-12-08 04:30:00     69 685.23331575 0.00000000 685.23331575          0   \n",
       "69 2019-12-08 06:30:00     70 685.23331575 0.00000000 685.23331575          0   \n",
       "70 2019-12-08 08:30:00     71 685.23331575 0.00000000 685.23331575          0   \n",
       "71 2019-12-08 10:30:00     72 685.23331575 0.00000000 685.23331575          0   \n",
       "72 2019-12-08 12:30:00     73 685.23331575 0.00000000 685.23331575          0   \n",
       "73 2019-12-08 14:30:00     74 685.23331575 0.00000000 685.23331575          0   \n",
       "74 2019-12-08 16:30:00     75 685.23331575 0.00000000 685.23331575          0   \n",
       "75 2019-12-08 18:30:00     76 685.23331575 0.00000000 685.23331575          0   \n",
       "76 2019-12-08 20:30:00     77 685.23331575 0.00000000 685.23331575          0   \n",
       "77 2019-12-08 22:30:00     78 685.23331575 0.00000000 685.23331575          0   \n",
       "78 2019-12-09 00:30:00     79   0.00007167 0.09080748 685.23331575          1   \n",
       "79 2019-12-09 02:30:00     80   0.00007167 0.09080748 683.39083198          0   \n",
       "80 2019-12-09 04:30:00     81   0.00007167 0.09080748 682.50818328          0   \n",
       "81 2019-12-09 06:30:00     82   0.00007167 0.09080748 683.63782833          0   \n",
       "82 2019-12-09 08:30:00     83   0.00007167 0.09080748 681.97423529          0   \n",
       "83 2019-12-09 10:30:00     84 682.61261188 0.00000000 682.61261188          2   \n",
       "\n",
       "           close  \n",
       "0  7358.84000000  \n",
       "1  7281.02000000  \n",
       "2  7252.96000000  \n",
       "3  7298.24000000  \n",
       "4  7297.91000000  \n",
       "5  7307.13000000  \n",
       "6  7308.76000000  \n",
       "7  7285.99000000  \n",
       "8  7273.98000000  \n",
       "9  7303.30000000  \n",
       "10 7294.28000000  \n",
       "11 7344.21000000  \n",
       "12 7349.18000000  \n",
       "13 7276.57000000  \n",
       "14 7293.83000000  \n",
       "15 7262.24000000  \n",
       "16 7266.70000000  \n",
       "17 7289.16000000  \n",
       "18 7335.43000000  \n",
       "19 7327.40000000  \n",
       "20 7320.98000000  \n",
       "21 7321.93000000  \n",
       "22 7292.71000000  \n",
       "23 7156.69000000  \n",
       "24 7150.49000000  \n",
       "25 7127.80000000  \n",
       "26 7130.60000000  \n",
       "27 7192.01000000  \n",
       "28 7200.34000000  \n",
       "29 7497.83000000  \n",
       "..           ...  \n",
       "54 7375.10000000  \n",
       "55 7477.00000000  \n",
       "56 7433.09000000  \n",
       "57 7456.82000000  \n",
       "58 7527.47000000  \n",
       "59 7510.33000000  \n",
       "60 7529.74000000  \n",
       "61 7559.01000000  \n",
       "62 7521.48000000  \n",
       "63 7494.67000000  \n",
       "64 7524.98000000  \n",
       "65 7517.14000000  \n",
       "66 7510.07000000  \n",
       "67 7508.78000000  \n",
       "68 7520.00000000  \n",
       "69 7484.29000000  \n",
       "70 7488.21000000  \n",
       "71 7435.00000000  \n",
       "72 7403.91000000  \n",
       "73 7421.96000000  \n",
       "74 7434.63000000  \n",
       "75 7486.21000000  \n",
       "76 7520.03000000  \n",
       "77 7513.67000000  \n",
       "78 7546.00000000  \n",
       "79 7525.71000000  \n",
       "80 7515.99000000  \n",
       "81 7528.43000000  \n",
       "82 7510.11000000  \n",
       "83 7517.14000000  \n",
       "\n",
       "[84 rows x 7 columns]"
      ]
     },
     "execution_count": 14,
     "metadata": {},
     "output_type": "execute_result"
    }
   ],
   "source": [
    "trading_record = run_bot('4h','4 hours','7 days ago UTC')\n",
    "trading_record"
   ]
  },
  {
   "cell_type": "code",
   "execution_count": null,
   "metadata": {},
   "outputs": [],
   "source": []
  }
 ],
 "metadata": {
  "kernelspec": {
   "display_name": "Python 3",
   "language": "python",
   "name": "python3"
  },
  "language_info": {
   "codemirror_mode": {
    "name": "ipython",
    "version": 3
   },
   "file_extension": ".py",
   "mimetype": "text/x-python",
   "name": "python",
   "nbconvert_exporter": "python",
   "pygments_lexer": "ipython3",
   "version": "3.7.3"
  }
 },
 "nbformat": 4,
 "nbformat_minor": 2
}
