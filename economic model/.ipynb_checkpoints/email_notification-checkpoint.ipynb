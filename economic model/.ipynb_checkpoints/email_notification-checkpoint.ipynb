{
 "cells": [
  {
   "cell_type": "code",
   "execution_count": 18,
   "metadata": {},
   "outputs": [],
   "source": [
    "def email_notification(message):\n",
    "    info = pd.read_csv('C:\\\\Users\\\\Ray\\\\Desktop\\\\E_Info.csv')\n",
    "    gmailaddress = info['username'][0]\n",
    "    gmailpassword = info['password'][0]\n",
    "    mailToOne = info['addressOne'][0]\n",
    "    mailToTwo = info['addressTwo'][0]\n",
    "    mailServer = smtplib.SMTP('smtp.gmail.com' , 587)\n",
    "    mailServer.starttls()\n",
    "    mailServer.login(gmailaddress , gmailpassword)\n",
    "    mailServer.sendmail(gmailaddress, mailToOne , message)\n",
    "    mailServer.quit()"
   ]
  },
  {
   "cell_type": "code",
   "execution_count": 19,
   "metadata": {},
   "outputs": [],
   "source": [
    "import smtplib \n",
    "import pandas as pd\n",
    "email_notification(\"IMPORTANT! BUY THE BITCOIN RIGHT NOW!\")"
   ]
  },
  {
   "cell_type": "code",
   "execution_count": null,
   "metadata": {},
   "outputs": [],
   "source": []
  }
 ],
 "metadata": {
  "kernelspec": {
   "display_name": "Python 3",
   "language": "python",
   "name": "python3"
  },
  "language_info": {
   "codemirror_mode": {
    "name": "ipython",
    "version": 3
   },
   "file_extension": ".py",
   "mimetype": "text/x-python",
   "name": "python",
   "nbconvert_exporter": "python",
   "pygments_lexer": "ipython3",
   "version": "3.7.3"
  }
 },
 "nbformat": 4,
 "nbformat_minor": 2
}
