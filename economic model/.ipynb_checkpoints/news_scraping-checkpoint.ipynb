{
 "cells": [
  {
   "cell_type": "code",
   "execution_count": 3,
   "metadata": {},
   "outputs": [
    {
     "name": "stdout",
     "output_type": "stream",
     "text": [
      "Today's date: 2019-10-30\n",
      "How to Keep Sports Fun For Kids\n",
      "The Glorious Victories of Trans Athletes Are Shaking Up Sports\n",
      "YouTube founder secretly building sports fan game GreenPark\n",
      "An Academic Take on Sports Rivalries\n",
      "Nationals Continue the Sports Joy in D.C.\n",
      "Samsung Galaxy Watch Active2 Review: Is It Worth It?\n",
      "Source: Nike has picked up Russell Wilson’s Tally/TraceMe in a rare acquisition\n",
      "7 Podcasts for the Sports Fan\n",
      "What a shot! 26 amazing sports photos\n",
      "What a Shot! 28 amazing sports photos\n",
      "What a shot! 26 amazing sports photos\n",
      "What a shot! 28 amazing sports photos\n",
      "DAZN will provide boxing news and highlights on Snapchat\n",
      "Can Colleges Police Sports Betting? Some Are Trying\n",
      "Deadspin revolts and editor fired over 'stick to sports' mandate\n",
      "Sony’s new A9 II mirrorless full-frame camera has the speed sports photographers need\n",
      "Houston Astros owner apologizes to Sports Illustrated journalist\n",
      "What's the Best Amateur Sport in Your City?\n",
      "Sylvia Gathoni: Kenya's pro-gamer taking on the world\n",
      "‘Stand With Hong Kong’? Not When N.B.A.’s Chinese Fortune Is on the Line\n"
     ]
    }
   ],
   "source": [
    "from newsapi.newsapi_client import NewsApiClient\n",
    "from datetime import date\n",
    "from datetime import timedelta\n",
    "newsapi = NewsApiClient(api_key='60c25a8f408f4a7ba27f4de5c7e64ed8')\n",
    "\n",
    "# /v2/top-headlines\n",
    "\n",
    "\n",
    "# /v2/everything\n",
    "all_articles = newsapi.get_everything(q='sports',\n",
    "                                      from_param='2019-10-01',\n",
    "                                      to='2019-10-29',\n",
    "                                      language='en',\n",
    "                                      sort_by='relevancy')\n",
    "\n",
    "# /v2/sources\n",
    "#sources = newsapi.get_sources()\n",
    "\n",
    "today = date.today()\n",
    "yesterday =today - timedelta(days=1)\n",
    "print(\"Today's date:\", today)\n",
    "all_articles = newsapi.get_everything(q='sports',\n",
    "                                      from_param=str(yesterday),\n",
    "                                      to=str(yesterday),\n",
    "                                      language='en',\n",
    "                                      sort_by='relevancy',\n",
    "                                     page= 1)\n",
    "\n",
    "all_articles['articles'][0]['title']\n",
    "\n",
    "for i in range(0,len(all_articles['articles'])):\n",
    "    print(all_articles['articles'][i]['title'].replace(',',' '))"
   ]
  },
  {
   "cell_type": "code",
   "execution_count": null,
   "metadata": {},
   "outputs": [],
   "source": []
  }
 ],
 "metadata": {
  "kernelspec": {
   "display_name": "Python 3",
   "language": "python",
   "name": "python3"
  },
  "language_info": {
   "codemirror_mode": {
    "name": "ipython",
    "version": 3
   },
   "file_extension": ".py",
   "mimetype": "text/x-python",
   "name": "python",
   "nbconvert_exporter": "python",
   "pygments_lexer": "ipython3",
   "version": "3.7.3"
  }
 },
 "nbformat": 4,
 "nbformat_minor": 2
}
